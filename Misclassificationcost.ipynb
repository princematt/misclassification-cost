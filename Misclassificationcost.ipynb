{
 "cells": [
  {
   "cell_type": "code",
   "execution_count": 283,
   "id": "24f642a3",
   "metadata": {},
   "outputs": [
    {
     "name": "stdout",
     "output_type": "stream",
     "text": [
      "  ORDER_ID\\tCLASS\\tB_EMAIL\\tB_TELEFON\\tB_BIRTHDATE\\tFLAG_LRIDENTISCH\\tFLAG_NEWSLETTER\\tZ_METHODE\\tZ_CARD_ART\\tZ_CARD_VALID\\tZ_LAST_NAME\\tVALUE_ORDER\\tWEEKDAY_ORDER\\tTIME_ORDER\\tAMOUNT_ORDER\\tANUMMER_01\\tANUMMER_02\\tANUMMER_03\\tANUMMER_04\\tANUMMER_05\\tANUMMER_06\\tANUMMER_07\\tANUMMER_08\\tANUMMER_09\\tANUMMER_10\\tCHK_LADR\\tCHK_RADR\\tCHK_KTO\\tCHK_CARD\\tCHK_COOKIE\\tCHK_IP\\tFAIL_LPLZ\\tFAIL_LORT\\tFAIL_LPLZORTMATCH\\tFAIL_RPLZ\\tFAIL_RORT\\tFAIL_RPLZORTMATCH\\tSESSION_TIME\\tNEUKUNDE\\tAMOUNT_ORDER_PRE\\tVALUE_ORDER_PRE\\tDATE_LORDER\\tMAHN_AKT\\tMAHN_HOECHST\n",
      "0  49917\\tno\\tyes\\tno\\t1/17/1973\\tyes\\tyes\\tcheck...                                                                                                                                                                                                                                                                                                                                                                                                                                                                                                              \n",
      "1  49919\\tno\\tyes\\tyes\\t12/8/1970\\tno\\tno\\tcredit...                                                                                                                                                                                                                                                                                                                                                                                                                                                                                                              \n",
      "2  49923\\tno\\tyes\\tno\\t4/3/1972\\tyes\\tno\\tcheck\\t...                                                                                                                                                                                                                                                                                                                                                                                                                                                                                                              \n",
      "3  49924\\tno\\tno\\tyes\\t8/1/1966\\tyes\\tno\\tcheck\\t...                                                                                                                                                                                                                                                                                                                                                                                                                                                                                                              \n",
      "4  49927\\tno\\tyes\\tyes\\t12/21/1969\\tyes\\tno\\tcred...                                                                                                                                                                                                                                                                                                                                                                                                                                                                                                              \n",
      "(30000, 1)\n",
      "  ORDER_ID\\tB_EMAIL\\tB_TELEFON\\tB_BIRTHDATE\\tFLAG_LRIDENTISCH\\tFLAG_NEWSLETTER\\tZ_METHODE\\tZ_CARD_ART\\tZ_CARD_VALID\\tZ_LAST_NAME\\tVALUE_ORDER\\tWEEKDAY_ORDER\\tTIME_ORDER\\tAMOUNT_ORDER\\tANUMMER_01\\tANUMMER_02\\tANUMMER_03\\tANUMMER_04\\tANUMMER_05\\tANUMMER_06\\tANUMMER_07\\tANUMMER_08\\tANUMMER_09\\tANUMMER_10\\tCHK_LADR\\tCHK_RADR\\tCHK_KTO\\tCHK_CARD\\tCHK_COOKIE\\tCHK_IP\\tFAIL_LPLZ\\tFAIL_LORT\\tFAIL_LPLZORTMATCH\\tFAIL_RPLZ\\tFAIL_RORT\\tFAIL_RPLZORTMATCH\\tSESSION_TIME\\tNEUKUNDE\\tAMOUNT_ORDER_PRE\\tVALUE_ORDER_PRE\\tDATE_LORDER\\tMAHN_AKT\\tMAHN_HOECHST\n",
      "0  49916\\tyes\\tno\\t7/22/1979\\tno\\tno\\tcredit_card...                                                                                                                                                                                                                                                                                                                                                                                                                                                                                                       \n",
      "1  49918\\tno\\tno\\t2/5/1973\\tno\\tno\\tcredit_card\\t...                                                                                                                                                                                                                                                                                                                                                                                                                                                                                                       \n",
      "2  49920\\tyes\\tno\\t7/19/1970\\tyes\\tno\\tcheck\\t?\\t...                                                                                                                                                                                                                                                                                                                                                                                                                                                                                                       \n",
      "3  49921\\tyes\\tno\\t4/9/1985\\tyes\\tno\\tcredit_card...                                                                                                                                                                                                                                                                                                                                                                                                                                                                                                       \n",
      "4  49922\\tno\\tyes\\t4/7/1963\\tno\\tno\\tdebit_note\\t...                                                                                                                                                                                                                                                                                                                                                                                                                                                                                                       \n",
      "(20000, 1)\n"
     ]
    }
   ],
   "source": [
    "import pandas as pd\n",
    "import numpy as np\n",
    "\n",
    "# Load the datasets\n",
    "train_data = pd.read_csv('risk-train.txt')\n",
    "test_data = pd.read_csv('risk-test.txt')\n",
    "\n",
    "# Display the first few rows and the shape of the training data\n",
    "print(train_data.head())\n",
    "print(train_data.shape)\n",
    "\n",
    "# Display the first few rows and the shape of the test data\n",
    "print(test_data.head())\n",
    "print(test_data.shape)\n"
   ]
  },
  {
   "cell_type": "code",
   "execution_count": 284,
   "id": "895f4cc2",
   "metadata": {},
   "outputs": [
    {
     "name": "stdout",
     "output_type": "stream",
     "text": [
      "   ORDER_ID CLASS B_EMAIL B_TELEFON B_BIRTHDATE FLAG_LRIDENTISCH  \\\n",
      "0     49917    no     yes        no   1/17/1973              yes   \n",
      "1     49919    no     yes       yes   12/8/1970               no   \n",
      "2     49923    no     yes        no    4/3/1972              yes   \n",
      "3     49924    no      no       yes    8/1/1966              yes   \n",
      "4     49927    no     yes       yes  12/21/1969              yes   \n",
      "\n",
      "  FLAG_NEWSLETTER    Z_METHODE Z_CARD_ART  Z_CARD_VALID  ... FAIL_RPLZ  \\\n",
      "0             yes        check          ?        5.2006  ...        no   \n",
      "1              no  credit_card       Visa       12.2007  ...       yes   \n",
      "2              no        check          ?       12.2007  ...        no   \n",
      "3              no        check          ?        1.2007  ...        no   \n",
      "4              no  credit_card   Eurocard       12.2006  ...        no   \n",
      "\n",
      "   FAIL_RORT FAIL_RPLZORTMATCH SESSION_TIME  NEUKUNDE  AMOUNT_ORDER_PRE  \\\n",
      "0         no                no            8       yes                 0   \n",
      "1         no                no           13       yes                 0   \n",
      "2         no                no            3       yes                 0   \n",
      "3         no                no           11        no                 4   \n",
      "4         no                no           16       yes                 0   \n",
      "\n",
      "  VALUE_ORDER_PRE DATE_LORDER MAHN_AKT MAHN_HOECHST  \n",
      "0            0.00           ?        ?            ?  \n",
      "1            0.00           ?        ?            ?  \n",
      "2            0.00           ?        ?            ?  \n",
      "3           75.72   5/12/2002        0            0  \n",
      "4            0.00           ?        ?            ?  \n",
      "\n",
      "[5 rows x 44 columns]\n",
      "(30000, 44)\n",
      "   ORDER_ID B_EMAIL B_TELEFON B_BIRTHDATE FLAG_LRIDENTISCH FLAG_NEWSLETTER  \\\n",
      "0     49916     yes        no   7/22/1979               no              no   \n",
      "1     49918      no        no    2/5/1973               no              no   \n",
      "2     49920     yes        no   7/19/1970              yes              no   \n",
      "3     49921     yes        no    4/9/1985              yes              no   \n",
      "4     49922      no       yes    4/7/1963               no              no   \n",
      "\n",
      "     Z_METHODE Z_CARD_ART  Z_CARD_VALID Z_LAST_NAME  ...  FAIL_RPLZ FAIL_RORT  \\\n",
      "0  credit_card       Visa        2.2005         yes  ...         no        no   \n",
      "1  credit_card   Eurocard        4.2005         yes  ...         no        no   \n",
      "2        check          ?        8.2005           ?  ...        yes        no   \n",
      "3  credit_card   Eurocard        7.2006         yes  ...         no        no   \n",
      "4   debit_note          ?        5.2007         yes  ...        yes        no   \n",
      "\n",
      "  FAIL_RPLZORTMATCH  SESSION_TIME  NEUKUNDE AMOUNT_ORDER_PRE VALUE_ORDER_PRE  \\\n",
      "0                no             6       yes                0            0.00   \n",
      "1                no             9        no                1           30.31   \n",
      "2                no             5       yes                0            0.00   \n",
      "3                no            13        no                1           54.07   \n",
      "4                no             8       yes                0            0.00   \n",
      "\n",
      "  DATE_LORDER MAHN_AKT MAHN_HOECHST  \n",
      "0           ?        ?            ?  \n",
      "1    9/2/2004        0            0  \n",
      "2           ?        ?            ?  \n",
      "3  12/24/2003        0            1  \n",
      "4           ?        ?            ?  \n",
      "\n",
      "[5 rows x 43 columns]\n",
      "(20000, 43)\n"
     ]
    }
   ],
   "source": [
    "# The data is tab-separated, as indicated by the \\t in the above output\n",
    "# Load the datasets with the correct delimiter\n",
    "train_data = pd.read_csv('risk-train.txt', delimiter='\\t')\n",
    "test_data = pd.read_csv('risk-test.txt', delimiter='\\t')\n",
    "\n",
    "# Display the first few rows and the shape of the training data\n",
    "print(train_data.head())\n",
    "print(train_data.shape)\n",
    "\n",
    "# Display the first few rows and the shape of the test data\n",
    "print(test_data.head())\n",
    "print(test_data.shape)\n"
   ]
  },
  {
   "cell_type": "markdown",
   "id": "c234913a",
   "metadata": {},
   "source": [
    "In the dataset, missing values seem to be represented by a ?.\n",
    "We can replace ? with np.nan for easier handling and then check for missing values"
   ]
  },
  {
   "cell_type": "code",
   "execution_count": 285,
   "id": "33d92b42",
   "metadata": {},
   "outputs": [
    {
     "name": "stdout",
     "output_type": "stream",
     "text": [
      "ORDER_ID                 0\n",
      "CLASS                    0\n",
      "B_EMAIL                  0\n",
      "B_TELEFON                0\n",
      "B_BIRTHDATE           2942\n",
      "FLAG_LRIDENTISCH         0\n",
      "FLAG_NEWSLETTER          0\n",
      "Z_METHODE                0\n",
      "Z_CARD_ART           18654\n",
      "Z_CARD_VALID             0\n",
      "Z_LAST_NAME          14808\n",
      "VALUE_ORDER              0\n",
      "WEEKDAY_ORDER            0\n",
      "TIME_ORDER              20\n",
      "AMOUNT_ORDER             0\n",
      "ANUMMER_01               0\n",
      "ANUMMER_02           22147\n",
      "ANUMMER_03           26802\n",
      "ANUMMER_04           28668\n",
      "ANUMMER_05           29459\n",
      "ANUMMER_06           29794\n",
      "ANUMMER_07           29905\n",
      "ANUMMER_08           29966\n",
      "ANUMMER_09           29993\n",
      "ANUMMER_10           30000\n",
      "CHK_LADR                 0\n",
      "CHK_RADR                 0\n",
      "CHK_KTO                  0\n",
      "CHK_CARD                 0\n",
      "CHK_COOKIE               0\n",
      "CHK_IP                   0\n",
      "FAIL_LPLZ                0\n",
      "FAIL_LORT                0\n",
      "FAIL_LPLZORTMATCH        0\n",
      "FAIL_RPLZ                0\n",
      "FAIL_RORT                0\n",
      "FAIL_RPLZORTMATCH        0\n",
      "SESSION_TIME             0\n",
      "NEUKUNDE                 0\n",
      "AMOUNT_ORDER_PRE         0\n",
      "VALUE_ORDER_PRE          0\n",
      "DATE_LORDER          15856\n",
      "MAHN_AKT             15856\n",
      "MAHN_HOECHST         15856\n",
      "dtype: int64\n",
      "ORDER_ID                 0\n",
      "B_EMAIL                  0\n",
      "B_TELEFON                0\n",
      "B_BIRTHDATE           2054\n",
      "FLAG_LRIDENTISCH         0\n",
      "FLAG_NEWSLETTER          0\n",
      "Z_METHODE                0\n",
      "Z_CARD_ART           12317\n",
      "Z_CARD_VALID             0\n",
      "Z_LAST_NAME           9706\n",
      "VALUE_ORDER              0\n",
      "WEEKDAY_ORDER            0\n",
      "TIME_ORDER              15\n",
      "AMOUNT_ORDER             0\n",
      "ANUMMER_01               0\n",
      "ANUMMER_02           14905\n",
      "ANUMMER_03           17907\n",
      "ANUMMER_04           19123\n",
      "ANUMMER_05           19636\n",
      "ANUMMER_06           19855\n",
      "ANUMMER_07           19935\n",
      "ANUMMER_08           19971\n",
      "ANUMMER_09           19982\n",
      "ANUMMER_10           19987\n",
      "CHK_LADR                 0\n",
      "CHK_RADR                 0\n",
      "CHK_KTO                  0\n",
      "CHK_CARD                 0\n",
      "CHK_COOKIE               0\n",
      "CHK_IP                   0\n",
      "FAIL_LPLZ                0\n",
      "FAIL_LORT                0\n",
      "FAIL_LPLZORTMATCH        0\n",
      "FAIL_RPLZ                0\n",
      "FAIL_RORT                0\n",
      "FAIL_RPLZORTMATCH        0\n",
      "SESSION_TIME             0\n",
      "NEUKUNDE                 0\n",
      "AMOUNT_ORDER_PRE         0\n",
      "VALUE_ORDER_PRE          0\n",
      "DATE_LORDER          10579\n",
      "MAHN_AKT             10579\n",
      "MAHN_HOECHST         10579\n",
      "dtype: int64\n"
     ]
    }
   ],
   "source": [
    "# Replacing '?' with NaN for better data manipulation\n",
    "train_data.replace('?', np.nan, inplace=True)\n",
    "test_data.replace('?', np.nan, inplace=True)\n",
    "\n",
    "# Check for missing values in the training data\n",
    "print(train_data.isnull().sum())\n",
    "\n",
    "# Check for missing values in the test data\n",
    "print(test_data.isnull().sum())\n"
   ]
  },
  {
   "cell_type": "markdown",
   "id": "777c33d9",
   "metadata": {},
   "source": [
    "#### The columns ANUMMER_08, ANUMMER_09, and ANUMMER_10 has high percentages of missing values . The next thing would be to inspect the columns and get the percentage of the missing value to see its significance to the analysis of the data  and drop it if needed with the code below: "
   ]
  },
  {
   "cell_type": "code",
   "execution_count": 287,
   "id": "748f50a8",
   "metadata": {},
   "outputs": [],
   "source": [
    "#saving the order id to be used at the end of the code for the test dataset\n",
    "order_ids = test_data['ORDER_ID']"
   ]
  },
  {
   "cell_type": "code",
   "execution_count": 288,
   "id": "1cea586d",
   "metadata": {},
   "outputs": [
    {
     "name": "stdout",
     "output_type": "stream",
     "text": [
      "0          NaT\n",
      "1          NaT\n",
      "2          NaT\n",
      "3   2002-05-12\n",
      "4          NaT\n",
      "Name: DATE_LORDER, dtype: datetime64[ns]\n"
     ]
    }
   ],
   "source": [
    "# Convert the DATE_LORDER column to datetime, errors='coerce' will ensure NaN remains NaN\n",
    "train_data['DATE_LORDER'] = pd.to_datetime(train_data['DATE_LORDER'], errors='coerce')\n",
    "\n",
    "# Check the converted data\n",
    "print(train_data['DATE_LORDER'].head())"
   ]
  },
  {
   "cell_type": "code",
   "execution_count": 289,
   "id": "4de8feef",
   "metadata": {},
   "outputs": [
    {
     "name": "stdout",
     "output_type": "stream",
     "text": [
      "0          NaT\n",
      "1   2004-09-02\n",
      "2          NaT\n",
      "3   2003-12-24\n",
      "4          NaT\n",
      "Name: DATE_LORDER, dtype: datetime64[ns]\n"
     ]
    }
   ],
   "source": [
    "# Convert the DATE_LORDER column to datetime, errors='coerce' will ensure NaN remains NaN\n",
    "test_data['DATE_LORDER'] = pd.to_datetime(test_data['DATE_LORDER'], errors='coerce')\n",
    "\n",
    "# Check the converted data\n",
    "print(test_data['DATE_LORDER'].head())"
   ]
  },
  {
   "cell_type": "code",
   "execution_count": 290,
   "id": "2e747887",
   "metadata": {},
   "outputs": [
    {
     "name": "stdout",
     "output_type": "stream",
     "text": [
      "Reference Year: 2005.0\n",
      "Reference Month: 1\n"
     ]
    }
   ],
   "source": [
    "# Extracting a reference year which is ideal if we want a reducible results \n",
    "reference_year = train_data['DATE_LORDER'].dt.year.max()\n",
    "reference_month = train_data[train_data['DATE_LORDER'].dt.year == reference_year]['DATE_LORDER'].dt.month.max()\n",
    "\n",
    "print(\"Reference Year:\", reference_year)\n",
    "print(\"Reference Month:\", reference_month)"
   ]
  },
  {
   "cell_type": "code",
   "execution_count": 291,
   "id": "aa28232b",
   "metadata": {},
   "outputs": [
    {
     "name": "stdout",
     "output_type": "stream",
     "text": [
      "Test Reference Year: 2005.0\n",
      "Test Reference Month: 12.0\n"
     ]
    },
    {
     "name": "stderr",
     "output_type": "stream",
     "text": [
      "/var/folders/_x/j3xz2p1j1cl67cr6ctg8pkn40000gn/T/ipykernel_26200/1342647913.py:3: UserWarning: Boolean Series key will be reindexed to match DataFrame index.\n",
      "  test_reference_month = test_data[train_data['DATE_LORDER'].dt.year == reference_year]['DATE_LORDER'].dt.month.max()\n"
     ]
    }
   ],
   "source": [
    "# Extracting a reference year which is ideal if we want a reducible results for the testdataset\n",
    "test_reference_year = test_data['DATE_LORDER'].dt.year.max()\n",
    "test_reference_month = test_data[train_data['DATE_LORDER'].dt.year == reference_year]['DATE_LORDER'].dt.month.max()\n",
    "\n",
    "print(\"Test Reference Year:\", test_reference_year)\n",
    "print(\"Test Reference Month:\", test_reference_month)"
   ]
  },
  {
   "cell_type": "code",
   "execution_count": 292,
   "id": "0b08fe96",
   "metadata": {},
   "outputs": [
    {
     "name": "stdout",
     "output_type": "stream",
     "text": [
      "Descriptive Statistics:\n",
      "        ANUMMER_10\n",
      "count         0.0\n",
      "mean          NaN\n",
      "std           NaN\n",
      "min           NaN\n",
      "25%           NaN\n",
      "50%           NaN\n",
      "75%           NaN\n",
      "max           NaN\n",
      "\n",
      "Value Counts for ANUMMER_06:\n",
      " 109102    3\n",
      "507317    2\n",
      "503367    2\n",
      "303397    2\n",
      "200576    2\n",
      "Name: ANUMMER_06, dtype: int64\n",
      "\n",
      "Value Counts for ANUMMER_07:\n",
      " 104645    2\n",
      "107171    2\n",
      "106520    2\n",
      "407255    2\n",
      "503136    2\n",
      "Name: ANUMMER_07, dtype: int64\n",
      "\n",
      "Value Counts for ANUMMER_08:\n",
      " 609500    2\n",
      "208997    1\n",
      "202697    1\n",
      "107300    1\n",
      "105958    1\n",
      "Name: ANUMMER_08, dtype: int64\n",
      "\n",
      "Value Counts for ANUMMER_09:\n",
      " 109102    1\n",
      "404645    1\n",
      "208777    1\n",
      "102681    1\n",
      "106858    1\n",
      "Name: ANUMMER_09, dtype: int64\n",
      "\n",
      "Value Counts for ANUMMER_10:\n",
      " Series([], Name: ANUMMER_10, dtype: int64)\n",
      "\n",
      "Missing Value Percentage:\n",
      " ANUMMER_06     99.313333\n",
      "ANUMMER_07     99.683333\n",
      "ANUMMER_08     99.886667\n",
      "ANUMMER_09     99.976667\n",
      "ANUMMER_10    100.000000\n",
      "dtype: float64\n"
     ]
    }
   ],
   "source": [
    "columns_to_inspect = ['ANUMMER_06', 'ANUMMER_07', 'ANUMMER_08', 'ANUMMER_09', 'ANUMMER_10']\n",
    "\n",
    "# Descriptive Statistics\n",
    "print(\"Descriptive Statistics:\\n\", train_data[columns_to_inspect].describe())\n",
    "\n",
    "# Value Counts (for the first few unique values)\n",
    "for col in columns_to_inspect:\n",
    "    print(f\"\\nValue Counts for {col}:\\n\", train_data[col].value_counts().head())\n",
    "\n",
    "# Missing Value Percentage\n",
    "missing_percentage = train_data[columns_to_inspect].isnull().sum() / len(train_data) * 100\n",
    "print(\"\\nMissing Value Percentage:\\n\", missing_percentage)\n"
   ]
  },
  {
   "cell_type": "code",
   "execution_count": 293,
   "id": "6a008a7e",
   "metadata": {},
   "outputs": [
    {
     "name": "stdout",
     "output_type": "stream",
     "text": [
      "Descriptive Statistics:\n",
      "        ANUMMER_06 ANUMMER_07 ANUMMER_08 ANUMMER_09 ANUMMER_10\n",
      "count         145         65         29         18         13\n",
      "unique        126         62         29         18         13\n",
      "top        207703     408605     502089     401373     500959\n",
      "freq            2          3          1          1          1\n",
      "\n",
      "Value Counts for ANUMMER_06:\n",
      " 207703    2\n",
      "309102    2\n",
      "406406    2\n",
      "102697    2\n",
      "104341    2\n",
      "Name: ANUMMER_06, dtype: int64\n",
      "\n",
      "Value Counts for ANUMMER_07:\n",
      " 408605    3\n",
      "109670    2\n",
      "108889    1\n",
      "404504    1\n",
      "201796    1\n",
      "Name: ANUMMER_07, dtype: int64\n",
      "\n",
      "Value Counts for ANUMMER_08:\n",
      " 502089    1\n",
      "201796    1\n",
      "402294    1\n",
      "207317    1\n",
      "405897    1\n",
      "Name: ANUMMER_08, dtype: int64\n",
      "\n",
      "Value Counts for ANUMMER_09:\n",
      " 401373    1\n",
      "102845    1\n",
      "409053    1\n",
      "101856    1\n",
      "400914    1\n",
      "Name: ANUMMER_09, dtype: int64\n",
      "\n",
      "Value Counts for ANUMMER_10:\n",
      " 500959    1\n",
      "205966    1\n",
      "406590    1\n",
      "100959    1\n",
      "104765    1\n",
      "Name: ANUMMER_10, dtype: int64\n",
      "\n",
      "Test Missing Value Percentage:\n",
      " ANUMMER_06    99.275\n",
      "ANUMMER_07    99.675\n",
      "ANUMMER_08    99.855\n",
      "ANUMMER_09    99.910\n",
      "ANUMMER_10    99.935\n",
      "dtype: float64\n"
     ]
    }
   ],
   "source": [
    "#test dataset\n",
    "test_columns_to_inspect = ['ANUMMER_06', 'ANUMMER_07', 'ANUMMER_08', 'ANUMMER_09', 'ANUMMER_10']\n",
    "\n",
    "# Descriptive Statistics\n",
    "print(\"Descriptive Statistics:\\n\", test_data[columns_to_inspect].describe())\n",
    "\n",
    "# Value Counts (for the first few unique values)\n",
    "for col in test_columns_to_inspect:\n",
    "    print(f\"\\nValue Counts for {col}:\\n\", test_data[col].value_counts().head())\n",
    "\n",
    "# Missing Value Percentage\n",
    "test_missing_percentage = test_data[columns_to_inspect].isnull().sum() / len(test_data) * 100\n",
    "print(\"\\nTest Missing Value Percentage:\\n\", test_missing_percentage)\n"
   ]
  },
  {
   "cell_type": "markdown",
   "id": "4ab78213",
   "metadata": {},
   "source": [
    "The columns ANUMMER_08, ANUMMER_09, and ANUMMER_10 have extremely high percentages of missing values, making them nearly useless for most analyses or modeling tasks. "
   ]
  },
  {
   "cell_type": "code",
   "execution_count": 294,
   "id": "14cff6b9",
   "metadata": {},
   "outputs": [
    {
     "name": "stdout",
     "output_type": "stream",
     "text": [
      "  CLASS B_EMAIL B_TELEFON B_BIRTHDATE FLAG_LRIDENTISCH FLAG_NEWSLETTER  \\\n",
      "0    no     yes        no   1/17/1973              yes             yes   \n",
      "1    no     yes       yes   12/8/1970               no              no   \n",
      "2    no     yes        no    4/3/1972              yes              no   \n",
      "3    no      no       yes    8/1/1966              yes              no   \n",
      "4    no     yes       yes  12/21/1969              yes              no   \n",
      "\n",
      "     Z_METHODE Z_CARD_ART  Z_CARD_VALID Z_LAST_NAME  ...  FAIL_RPLZ FAIL_RORT  \\\n",
      "0        check        NaN        5.2006         NaN  ...         no        no   \n",
      "1  credit_card       Visa       12.2007         yes  ...        yes        no   \n",
      "2        check        NaN       12.2007         NaN  ...         no        no   \n",
      "3        check        NaN        1.2007         NaN  ...         no        no   \n",
      "4  credit_card   Eurocard       12.2006         yes  ...         no        no   \n",
      "\n",
      "  FAIL_RPLZORTMATCH  SESSION_TIME  NEUKUNDE AMOUNT_ORDER_PRE VALUE_ORDER_PRE  \\\n",
      "0                no             8       yes                0            0.00   \n",
      "1                no            13       yes                0            0.00   \n",
      "2                no             3       yes                0            0.00   \n",
      "3                no            11        no                4           75.72   \n",
      "4                no            16       yes                0            0.00   \n",
      "\n",
      "  DATE_LORDER MAHN_AKT MAHN_HOECHST  \n",
      "0         NaT      NaN          NaN  \n",
      "1         NaT      NaN          NaN  \n",
      "2         NaT      NaN          NaN  \n",
      "3  2002-05-12        0            0  \n",
      "4         NaT      NaN          NaN  \n",
      "\n",
      "[5 rows x 38 columns]\n"
     ]
    }
   ],
   "source": [
    "# Columns to drop\n",
    "columns_to_drop = ['ORDER_ID', 'ANUMMER_06', 'ANUMMER_07', 'ANUMMER_08', 'ANUMMER_09', 'ANUMMER_10']\n",
    "\n",
    "# Dropping only the columns that exist in train_data from the columns_to_drop list\n",
    "train_data = train_data.drop(columns=[col for col in columns_to_drop if col in train_data.columns])\n",
    "\n",
    "# Review the dataframe after dropping\n",
    "print(train_data.head())\n"
   ]
  },
  {
   "cell_type": "code",
   "execution_count": 295,
   "id": "b42ec46d",
   "metadata": {},
   "outputs": [
    {
     "name": "stdout",
     "output_type": "stream",
     "text": [
      "  B_EMAIL B_TELEFON B_BIRTHDATE FLAG_LRIDENTISCH FLAG_NEWSLETTER    Z_METHODE  \\\n",
      "0     yes        no   7/22/1979               no              no  credit_card   \n",
      "1      no        no    2/5/1973               no              no  credit_card   \n",
      "2     yes        no   7/19/1970              yes              no        check   \n",
      "3     yes        no    4/9/1985              yes              no  credit_card   \n",
      "4      no       yes    4/7/1963               no              no   debit_note   \n",
      "\n",
      "  Z_CARD_ART  Z_CARD_VALID Z_LAST_NAME  VALUE_ORDER  ... FAIL_RPLZ FAIL_RORT  \\\n",
      "0       Visa        2.2005         yes         64.5  ...        no        no   \n",
      "1   Eurocard        4.2005         yes         74.3  ...        no        no   \n",
      "2        NaN        8.2005         NaN         42.8  ...       yes        no   \n",
      "3   Eurocard        7.2006         yes         42.8  ...        no        no   \n",
      "4        NaN        5.2007         yes          6.5  ...       yes        no   \n",
      "\n",
      "   FAIL_RPLZORTMATCH  SESSION_TIME NEUKUNDE AMOUNT_ORDER_PRE VALUE_ORDER_PRE  \\\n",
      "0                 no             6      yes                0            0.00   \n",
      "1                 no             9       no                1           30.31   \n",
      "2                 no             5      yes                0            0.00   \n",
      "3                 no            13       no                1           54.07   \n",
      "4                 no             8      yes                0            0.00   \n",
      "\n",
      "  DATE_LORDER MAHN_AKT MAHN_HOECHST  \n",
      "0         NaT      NaN          NaN  \n",
      "1  2004-09-02        0            0  \n",
      "2         NaT      NaN          NaN  \n",
      "3  2003-12-24        0            1  \n",
      "4         NaT      NaN          NaN  \n",
      "\n",
      "[5 rows x 37 columns]\n"
     ]
    }
   ],
   "source": [
    "# Columns to drop\n",
    "test_columns_to_drop = ['ORDER_ID', 'ANUMMER_06', 'ANUMMER_07', 'ANUMMER_08', 'ANUMMER_09', 'ANUMMER_10']\n",
    "\n",
    "# Dropping only the columns that exist in train_data from the columns_to_drop list\n",
    "test_data = test_data.drop(columns=[col for col in test_columns_to_drop if col in test_data.columns])\n",
    "\n",
    "# Review the dataframe after dropping\n",
    "print(test_data.head())\n"
   ]
  },
  {
   "cell_type": "code",
   "execution_count": 296,
   "id": "93a7033e",
   "metadata": {},
   "outputs": [
    {
     "name": "stdout",
     "output_type": "stream",
     "text": [
      "CLASS                    0\n",
      "B_EMAIL                  0\n",
      "B_TELEFON                0\n",
      "B_BIRTHDATE           2942\n",
      "FLAG_LRIDENTISCH         0\n",
      "FLAG_NEWSLETTER          0\n",
      "Z_METHODE                0\n",
      "Z_CARD_ART           18654\n",
      "Z_CARD_VALID             0\n",
      "Z_LAST_NAME          14808\n",
      "VALUE_ORDER              0\n",
      "WEEKDAY_ORDER            0\n",
      "TIME_ORDER              20\n",
      "AMOUNT_ORDER             0\n",
      "ANUMMER_01               0\n",
      "ANUMMER_02           22147\n",
      "ANUMMER_03           26802\n",
      "ANUMMER_04           28668\n",
      "ANUMMER_05           29459\n",
      "CHK_LADR                 0\n",
      "CHK_RADR                 0\n",
      "CHK_KTO                  0\n",
      "CHK_CARD                 0\n",
      "CHK_COOKIE               0\n",
      "CHK_IP                   0\n",
      "FAIL_LPLZ                0\n",
      "FAIL_LORT                0\n",
      "FAIL_LPLZORTMATCH        0\n",
      "FAIL_RPLZ                0\n",
      "FAIL_RORT                0\n",
      "FAIL_RPLZORTMATCH        0\n",
      "SESSION_TIME             0\n",
      "NEUKUNDE                 0\n",
      "AMOUNT_ORDER_PRE         0\n",
      "VALUE_ORDER_PRE          0\n",
      "DATE_LORDER          15856\n",
      "MAHN_AKT             15856\n",
      "MAHN_HOECHST         15856\n",
      "dtype: int64\n"
     ]
    }
   ],
   "source": [
    "print(train_data.isnull().sum())"
   ]
  },
  {
   "cell_type": "code",
   "execution_count": 297,
   "id": "e9b569de",
   "metadata": {},
   "outputs": [
    {
     "name": "stdout",
     "output_type": "stream",
     "text": [
      "CLASS                    0\n",
      "B_EMAIL                  0\n",
      "B_TELEFON                0\n",
      "B_BIRTHDATE              0\n",
      "FLAG_LRIDENTISCH         0\n",
      "FLAG_NEWSLETTER          0\n",
      "Z_METHODE                0\n",
      "Z_CARD_ART               0\n",
      "Z_CARD_VALID             0\n",
      "Z_LAST_NAME              0\n",
      "VALUE_ORDER              0\n",
      "WEEKDAY_ORDER            0\n",
      "TIME_ORDER               0\n",
      "AMOUNT_ORDER             0\n",
      "ANUMMER_01               0\n",
      "ANUMMER_02               0\n",
      "ANUMMER_03               0\n",
      "ANUMMER_04               0\n",
      "ANUMMER_05               0\n",
      "CHK_LADR                 0\n",
      "CHK_RADR                 0\n",
      "CHK_KTO                  0\n",
      "CHK_CARD                 0\n",
      "CHK_COOKIE               0\n",
      "CHK_IP                   0\n",
      "FAIL_LPLZ                0\n",
      "FAIL_LORT                0\n",
      "FAIL_LPLZORTMATCH        0\n",
      "FAIL_RPLZ                0\n",
      "FAIL_RORT                0\n",
      "FAIL_RPLZORTMATCH        0\n",
      "SESSION_TIME             0\n",
      "NEUKUNDE                 0\n",
      "AMOUNT_ORDER_PRE         0\n",
      "VALUE_ORDER_PRE          0\n",
      "DATE_LORDER          15856\n",
      "MAHN_AKT                 0\n",
      "MAHN_HOECHST             0\n",
      "dtype: int64\n"
     ]
    }
   ],
   "source": [
    "# Imputing numerical columns with the median\n",
    "numerical_cols = train_data.select_dtypes(include=['float64', 'int64']).columns\n",
    "for col in numerical_cols:\n",
    "    train_data[col].fillna(train_data[col].median(), inplace=True)\n",
    "\n",
    "# Imputing categorical columns with the mode\n",
    "categorical_cols = train_data.select_dtypes(include=['object']).columns\n",
    "for col in categorical_cols:\n",
    "    train_data[col].fillna(train_data[col].mode()[0], inplace=True)\n",
    "\n",
    "# Verify the imputation\n",
    "print(train_data.isnull().sum())\n"
   ]
  },
  {
   "cell_type": "code",
   "execution_count": 298,
   "id": "0c2abeb1",
   "metadata": {},
   "outputs": [
    {
     "name": "stdout",
     "output_type": "stream",
     "text": [
      "B_EMAIL                  0\n",
      "B_TELEFON                0\n",
      "B_BIRTHDATE              0\n",
      "FLAG_LRIDENTISCH         0\n",
      "FLAG_NEWSLETTER          0\n",
      "Z_METHODE                0\n",
      "Z_CARD_ART               0\n",
      "Z_CARD_VALID             0\n",
      "Z_LAST_NAME              0\n",
      "VALUE_ORDER              0\n",
      "WEEKDAY_ORDER            0\n",
      "TIME_ORDER               0\n",
      "AMOUNT_ORDER             0\n",
      "ANUMMER_01               0\n",
      "ANUMMER_02               0\n",
      "ANUMMER_03               0\n",
      "ANUMMER_04               0\n",
      "ANUMMER_05               0\n",
      "CHK_LADR                 0\n",
      "CHK_RADR                 0\n",
      "CHK_KTO                  0\n",
      "CHK_CARD                 0\n",
      "CHK_COOKIE               0\n",
      "CHK_IP                   0\n",
      "FAIL_LPLZ                0\n",
      "FAIL_LORT                0\n",
      "FAIL_LPLZORTMATCH        0\n",
      "FAIL_RPLZ                0\n",
      "FAIL_RORT                0\n",
      "FAIL_RPLZORTMATCH        0\n",
      "SESSION_TIME             0\n",
      "NEUKUNDE                 0\n",
      "AMOUNT_ORDER_PRE         0\n",
      "VALUE_ORDER_PRE          0\n",
      "DATE_LORDER          10579\n",
      "MAHN_AKT                 0\n",
      "MAHN_HOECHST             0\n",
      "dtype: int64\n"
     ]
    }
   ],
   "source": [
    "#test dataset\n",
    "# Imputing numerical columns with the median\n",
    "test_numerical_cols = test_data.select_dtypes(include=['float64', 'int64']).columns\n",
    "for col in test_numerical_cols:\n",
    "    test_data[col].fillna(test_data[col].median(), inplace=True)\n",
    "\n",
    "# Imputing categorical columns with the mode\n",
    "test_categorical_cols = test_data.select_dtypes(include=['object']).columns\n",
    "for col in test_categorical_cols:\n",
    "    test_data[col].fillna(test_data[col].mode()[0], inplace=True)\n",
    "\n",
    "# Verify the imputation\n",
    "print(test_data.isnull().sum())\n"
   ]
  },
  {
   "cell_type": "code",
   "execution_count": 299,
   "id": "8e57be1b",
   "metadata": {},
   "outputs": [
    {
     "name": "stdout",
     "output_type": "stream",
     "text": [
      "  CLASS B_EMAIL B_TELEFON B_BIRTHDATE FLAG_LRIDENTISCH FLAG_NEWSLETTER  \\\n",
      "0    no     yes        no   1/17/1973              yes             yes   \n",
      "1    no     yes       yes   12/8/1970               no              no   \n",
      "2    no     yes        no    4/3/1972              yes              no   \n",
      "3    no      no       yes    8/1/1966              yes              no   \n",
      "4    no     yes       yes  12/21/1969              yes              no   \n",
      "\n",
      "     Z_METHODE Z_CARD_ART  Z_CARD_VALID Z_LAST_NAME  ...  FAIL_RPLZ FAIL_RORT  \\\n",
      "0        check   Eurocard        5.2006         yes  ...         no        no   \n",
      "1  credit_card       Visa       12.2007         yes  ...        yes        no   \n",
      "2        check   Eurocard       12.2007         yes  ...         no        no   \n",
      "3        check   Eurocard        1.2007         yes  ...         no        no   \n",
      "4  credit_card   Eurocard       12.2006         yes  ...         no        no   \n",
      "\n",
      "  FAIL_RPLZORTMATCH  SESSION_TIME  NEUKUNDE AMOUNT_ORDER_PRE VALUE_ORDER_PRE  \\\n",
      "0                no             8       yes                0            0.00   \n",
      "1                no            13       yes                0            0.00   \n",
      "2                no             3       yes                0            0.00   \n",
      "3                no            11        no                4           75.72   \n",
      "4                no            16       yes                0            0.00   \n",
      "\n",
      "  DATE_LORDER MAHN_AKT MAHN_HOECHST  \n",
      "0         NaT        0            0  \n",
      "1         NaT        0            0  \n",
      "2         NaT        0            0  \n",
      "3  2002-05-12        0            0  \n",
      "4         NaT        0            0  \n",
      "\n",
      "[5 rows x 38 columns]\n",
      "(30000, 38)\n"
     ]
    }
   ],
   "source": [
    "print(train_data.head())\n",
    "print(train_data.shape)"
   ]
  },
  {
   "cell_type": "code",
   "execution_count": 300,
   "id": "35661609",
   "metadata": {},
   "outputs": [
    {
     "name": "stdout",
     "output_type": "stream",
     "text": [
      "X:  B_EMAIL B_TELEFON B_BIRTHDATE FLAG_LRIDENTISCH FLAG_NEWSLETTER    Z_METHODE  \\\n",
      "0     yes        no   1/17/1973              yes             yes        check   \n",
      "1     yes       yes   12/8/1970               no              no  credit_card   \n",
      "2     yes        no    4/3/1972              yes              no        check   \n",
      "3      no       yes    8/1/1966              yes              no        check   \n",
      "4     yes       yes  12/21/1969              yes              no  credit_card   \n",
      "\n",
      "  Z_CARD_ART  Z_CARD_VALID Z_LAST_NAME  VALUE_ORDER  ... FAIL_RPLZ FAIL_RORT  \\\n",
      "0   Eurocard        5.2006         yes        17.80  ...        no        no   \n",
      "1       Visa       12.2007         yes        18.20  ...       yes        no   \n",
      "2   Eurocard       12.2007         yes        10.80  ...        no        no   \n",
      "3   Eurocard        1.2007         yes        54.50  ...        no        no   \n",
      "4   Eurocard       12.2006         yes        19.99  ...        no        no   \n",
      "\n",
      "   FAIL_RPLZORTMATCH  SESSION_TIME NEUKUNDE AMOUNT_ORDER_PRE VALUE_ORDER_PRE  \\\n",
      "0                 no             8      yes                0            0.00   \n",
      "1                 no            13      yes                0            0.00   \n",
      "2                 no             3      yes                0            0.00   \n",
      "3                 no            11       no                4           75.72   \n",
      "4                 no            16      yes                0            0.00   \n",
      "\n",
      "  DATE_LORDER MAHN_AKT MAHN_HOECHST  \n",
      "0         NaT        0            0  \n",
      "1         NaT        0            0  \n",
      "2         NaT        0            0  \n",
      "3  2002-05-12        0            0  \n",
      "4         NaT        0            0  \n",
      "\n",
      "[5 rows x 37 columns], \n",
      " \n",
      " y:0    no\n",
      "1    no\n",
      "2    no\n",
      "3    no\n",
      "4    no\n",
      "Name: CLASS, dtype: object\n"
     ]
    }
   ],
   "source": [
    "X = train_data.iloc[:, 1:]\n",
    "y = train_data.iloc[:, 0]\n",
    "print(f'X:{X.head()}, \\n \\n y:{y.head()}')"
   ]
  },
  {
   "cell_type": "code",
   "execution_count": 301,
   "id": "08a70a9b",
   "metadata": {},
   "outputs": [],
   "source": [
    "from sklearn.preprocessing import OneHotEncoder\n",
    "\n",
    "# Defining the columns that need one-hot encoding\n",
    "categorical_cols = ['B_EMAIL', 'B_TELEFON', 'FLAG_LRIDENTISCH', 'FLAG_NEWSLETTER', 'Z_METHODE', 'Z_CARD_ART', 'Z_LAST_NAME', 'CHK_LADR', 'CHK_RADR', 'CHK_KTO', 'CHK_CARD', 'CHK_COOKIE', 'CHK_IP', 'FAIL_LPLZ', 'FAIL_LORT', 'FAIL_LPLZORTMATCH', 'FAIL_RPLZ', 'FAIL_RORT', 'FAIL_RPLZORTMATCH', 'NEUKUNDE']\n",
    "\n",
    "# Initializing the encoder\n",
    "encoder = OneHotEncoder(drop='first', sparse_output=False)\n",
    "\n",
    "# Applying the encoder and convert to dataframe\n",
    "encoded_data = encoder.fit_transform(X[categorical_cols])\n",
    "# Replace the problematic line with the updated method:\n",
    "encoded_df = pd.DataFrame(encoded_data, columns=encoder.get_feature_names_out(categorical_cols))\n",
    "\n",
    "# Drop the original categorical columns and concatenate the encoded dataframe\n",
    "X.drop(columns=categorical_cols, inplace=True)\n",
    "X = pd.concat([X, encoded_df], axis=1)\n"
   ]
  },
  {
   "cell_type": "code",
   "execution_count": 302,
   "id": "82054591",
   "metadata": {},
   "outputs": [],
   "source": [
    "#Test dataset\n",
    "from sklearn.preprocessing import OneHotEncoder\n",
    "\n",
    "# Defining the columns that need one-hot encoding\n",
    "test_categorical_cols = ['B_EMAIL', 'B_TELEFON', 'FLAG_LRIDENTISCH', 'FLAG_NEWSLETTER', 'Z_METHODE', 'Z_CARD_ART', 'Z_LAST_NAME', 'CHK_LADR', 'CHK_RADR', 'CHK_KTO', 'CHK_CARD', 'CHK_COOKIE', 'CHK_IP', 'FAIL_LPLZ', 'FAIL_LORT', 'FAIL_LPLZORTMATCH', 'FAIL_RPLZ', 'FAIL_RORT', 'FAIL_RPLZORTMATCH', 'NEUKUNDE']\n",
    "\n",
    "# Initializing the encoder\n",
    "test_encoder = OneHotEncoder(drop='first', sparse_output=False)\n",
    "\n",
    "# Applying the encoder and convert to dataframe\n",
    "test_encoded_data = test_encoder.fit_transform(test_data[test_categorical_cols])\n",
    "# Replace the problematic line with the updated method:\n",
    "test_encoded_df = pd.DataFrame(test_encoded_data, columns=test_encoder.get_feature_names_out(test_categorical_cols))\n",
    "\n",
    "# Drop the original categorical columns and concatenate the encoded dataframe\n",
    "test_data.drop(columns=test_categorical_cols, inplace=True)\n",
    "test_data = pd.concat([test_data, test_encoded_df], axis=1)\n"
   ]
  },
  {
   "cell_type": "markdown",
   "id": "afa2538d",
   "metadata": {},
   "source": [
    "##  Preprocess Date/Time Attributes"
   ]
  },
  {
   "cell_type": "code",
   "execution_count": 303,
   "id": "9235b625",
   "metadata": {},
   "outputs": [],
   "source": [
    "#Converting B_BIRTHDATE to age\n",
    "from datetime import datetime\n",
    "\n",
    "# Convert B_BIRTHDATE to datetime object\n",
    "X['B_BIRTHDATE'] = pd.to_datetime(X['B_BIRTHDATE'])\n",
    "\n",
    "# Calculate age\n",
    "X['AGE'] = reference_year - X['B_BIRTHDATE'].dt.year\n",
    "X.drop(columns=['B_BIRTHDATE'], inplace=True)\n"
   ]
  },
  {
   "cell_type": "code",
   "execution_count": 305,
   "id": "dac45a15",
   "metadata": {},
   "outputs": [],
   "source": [
    "#Converting B_BIRTHDATE to age\n",
    "from datetime import datetime\n",
    "\n",
    "# Convert B_BIRTHDATE to datetime object\n",
    "test_data['B_BIRTHDATE'] = pd.to_datetime(test_data['B_BIRTHDATE'])\n",
    "\n",
    "# Calculate age\n",
    "test_data['AGE'] = test_reference_year - test_data['B_BIRTHDATE'].dt.year\n",
    "test_data.drop(columns=['B_BIRTHDATE'], inplace=True)\n"
   ]
  },
  {
   "cell_type": "code",
   "execution_count": 306,
   "id": "949b566d",
   "metadata": {},
   "outputs": [
    {
     "name": "stdout",
     "output_type": "stream",
     "text": [
      "[ 5.2006 12.2007  1.2007 12.2006  2.2007 11.2007  5.2005  9.2007 11.2006\n",
      "  2.2006  6.2006  3.2007  6.2005  6.2007  3.2005  4.2005 11.2005  4.2006\n",
      "  3.2006  9.2006 12.2005  8.2007 10.2006  2.2005  7.2007 10.2005  7.2005\n",
      "  8.2005  9.2005  7.2006  1.2006  1.2005  8.2006 10.2007  4.2007  5.2007]\n"
     ]
    }
   ],
   "source": [
    "print(X['Z_CARD_VALID'].unique())\n"
   ]
  },
  {
   "cell_type": "code",
   "execution_count": 307,
   "id": "71ebf7b0",
   "metadata": {},
   "outputs": [
    {
     "name": "stdout",
     "output_type": "stream",
     "text": [
      "float64\n"
     ]
    }
   ],
   "source": [
    "print(X['Z_CARD_VALID'].dtype)"
   ]
  },
  {
   "cell_type": "code",
   "execution_count": 308,
   "id": "6ed40044",
   "metadata": {},
   "outputs": [
    {
     "name": "stdout",
     "output_type": "stream",
     "text": [
      "0        16.0\n",
      "1        35.0\n",
      "2        35.0\n",
      "3        24.0\n",
      "4        23.0\n",
      "         ... \n",
      "29995     5.0\n",
      "29996     4.0\n",
      "29997    22.0\n",
      "29998     3.0\n",
      "29999    15.0\n",
      "Name: MONTHS_TILL_EXPIRY, Length: 30000, dtype: float64\n"
     ]
    }
   ],
   "source": [
    "# Convert the Z_CARD_VALID column to string\n",
    "X['Z_CARD_VALID'] = X['Z_CARD_VALID'].astype(str)\n",
    "\n",
    "# Splitting Z_CARD_VALID into month and year\n",
    "X[['CARD_MONTH', 'CARD_YEAR']] = X['Z_CARD_VALID'].str.split('.', expand=True).astype(float)\n",
    "\n",
    "# Calculating months until expiration from current year and month\n",
    "\n",
    "X['MONTHS_TILL_EXPIRY'] = (X['CARD_YEAR'] - reference_year) * 12 + X['CARD_MONTH'] - reference_month\n",
    "\n",
    "# Drop the original 'Z_CARD_VALID' column\n",
    "X = X.drop(columns=['Z_CARD_VALID'])\n",
    "print(X['MONTHS_TILL_EXPIRY'])"
   ]
  },
  {
   "cell_type": "code",
   "execution_count": 309,
   "id": "eaeb4b78",
   "metadata": {},
   "outputs": [
    {
     "name": "stdout",
     "output_type": "stream",
     "text": [
      "0       -10.0\n",
      "1        -8.0\n",
      "2        -4.0\n",
      "3         7.0\n",
      "4        17.0\n",
      "         ... \n",
      "19995    -5.0\n",
      "19996    15.0\n",
      "19997    22.0\n",
      "19998    -7.0\n",
      "19999    24.0\n",
      "Name: MONTHS_TILL_EXPIRY, Length: 20000, dtype: float64\n"
     ]
    }
   ],
   "source": [
    "#test\n",
    "# Convert the Z_CARD_VALID column to string\n",
    "test_data['Z_CARD_VALID'] = test_data['Z_CARD_VALID'].astype(str)\n",
    "\n",
    "# Splitting Z_CARD_VALID into month and year\n",
    "test_data[['CARD_MONTH', 'CARD_YEAR']] = test_data['Z_CARD_VALID'].str.split('.', expand=True).astype(float)\n",
    "\n",
    "# Calculating months until expiration from current year and month\n",
    "\n",
    "test_data['MONTHS_TILL_EXPIRY'] = (test_data['CARD_YEAR'] - test_reference_year) * 12 + test_data['CARD_MONTH'] - test_reference_month\n",
    "\n",
    "# Drop the original 'Z_CARD_VALID' column\n",
    "test_data = test_data.drop(columns=['Z_CARD_VALID'])\n",
    "print(test_data['MONTHS_TILL_EXPIRY'])"
   ]
  },
  {
   "cell_type": "code",
   "execution_count": 310,
   "id": "81c1be38",
   "metadata": {},
   "outputs": [],
   "source": [
    "def months_difference(end, start):\n",
    "    return (end.year - start.year) * 12 + end.month - start.month\n",
    "\n",
    "# explicitly converting reference_year to an integer will ensure that the pd.Timestamp() function receives the correct type for its argument\n",
    "reference_year = int(reference_year)\n",
    "\n",
    "# Handle NaN values in DATE_LORDER column by calculating median difference and filling them\n",
    "median_diff_date = X['DATE_LORDER'].median()\n",
    "X['DATE_LORDER'].fillna(median_diff_date, inplace=True)\n",
    "\n",
    "# Calculate the months since last order\n",
    "X['MONTHS_SINCE_LAST_ORDER'] = [months_difference(pd.Timestamp(reference_year, 12, 31), date) for date in X['DATE_LORDER']]\n",
    "\n",
    "# Drop the original 'DATE_LORDER' column\n",
    "X.drop(columns=['DATE_LORDER'], inplace=True)\n"
   ]
  },
  {
   "cell_type": "code",
   "execution_count": 311,
   "id": "55135e37",
   "metadata": {},
   "outputs": [],
   "source": [
    "#test\n",
    "def test_months_difference(end, start):\n",
    "    return (end.year - start.year) * 12 + end.month - start.month\n",
    "\n",
    "# explicitly converting reference_year to an integer will ensure that the pd.Timestamp() function receives the correct type for its argument\n",
    "test_reference_year = int(test_reference_year)\n",
    "\n",
    "# Handle NaN values in DATE_LORDER column by calculating median difference and filling them\n",
    "test_median_diff_date = test_data['DATE_LORDER'].median()\n",
    "test_data['DATE_LORDER'].fillna(test_median_diff_date, inplace=True)\n",
    "\n",
    "# Calculate the months since last order\n",
    "test_data['MONTHS_SINCE_LAST_ORDER'] = [test_months_difference(pd.Timestamp(test_reference_year, 12, 31), date) for date in test_data['DATE_LORDER']]\n",
    "\n",
    "# Drop the original 'DATE_LORDER' column\n",
    "test_data.drop(columns=['DATE_LORDER'], inplace=True)\n"
   ]
  },
  {
   "cell_type": "code",
   "execution_count": 312,
   "id": "81ea0d1d",
   "metadata": {},
   "outputs": [
    {
     "name": "stdout",
     "output_type": "stream",
     "text": [
      "0        35\n",
      "1        35\n",
      "2        35\n",
      "3        43\n",
      "4        35\n",
      "         ..\n",
      "29995    45\n",
      "29996    54\n",
      "29997    35\n",
      "29998    53\n",
      "29999    59\n",
      "Name: MONTHS_SINCE_LAST_ORDER, Length: 30000, dtype: int64\n"
     ]
    }
   ],
   "source": [
    "print(X['MONTHS_SINCE_LAST_ORDER'])"
   ]
  },
  {
   "cell_type": "markdown",
   "id": "a8766b22",
   "metadata": {},
   "source": [
    "### This will convert all the necessary categorical and date/time features to a format suitable for machine learning algorithms. "
   ]
  },
  {
   "cell_type": "code",
   "execution_count": 313,
   "id": "266992fa",
   "metadata": {},
   "outputs": [
    {
     "name": "stdout",
     "output_type": "stream",
     "text": [
      "Non-Numeric Columns: Index(['TIME_ORDER', 'ANUMMER_02', 'ANUMMER_03', 'ANUMMER_04', 'ANUMMER_05',\n",
      "       'MAHN_AKT', 'MAHN_HOECHST'],\n",
      "      dtype='object')\n"
     ]
    }
   ],
   "source": [
    "# Define a mapping from weekday to number\n",
    "weekday_mapping = {\n",
    "    'Monday': 1,\n",
    "    'Tuesday': 2,\n",
    "    'Wednesday': 3,\n",
    "    'Thursday': 4,\n",
    "    'Friday': 5,\n",
    "    'Saturday': 6,\n",
    "    'Sunday': 7\n",
    "}\n",
    "\n",
    "# Apply the mapping to the training  data\n",
    "X['WEEKDAY_ORDER'] = X['WEEKDAY_ORDER'].map(weekday_mapping)\n",
    "\n",
    "# Checking for other non-numeric columns\n",
    "non_numeric_cols = X.select_dtypes(exclude=[np.number]).columns\n",
    "print(\"Non-Numeric Columns:\", non_numeric_cols)\n",
    "\n"
   ]
  },
  {
   "cell_type": "code",
   "execution_count": 314,
   "id": "31838f50",
   "metadata": {},
   "outputs": [
    {
     "name": "stdout",
     "output_type": "stream",
     "text": [
      "Non-Numeric Columns: Index(['TIME_ORDER', 'ANUMMER_02', 'ANUMMER_03', 'ANUMMER_04', 'ANUMMER_05',\n",
      "       'MAHN_AKT', 'MAHN_HOECHST'],\n",
      "      dtype='object')\n"
     ]
    }
   ],
   "source": [
    "#test\n",
    "# Define a mapping from weekday to number\n",
    "test_weekday_mapping = {\n",
    "    'Monday': 1,\n",
    "    'Tuesday': 2,\n",
    "    'Wednesday': 3,\n",
    "    'Thursday': 4,\n",
    "    'Friday': 5,\n",
    "    'Saturday': 6,\n",
    "    'Sunday': 7\n",
    "}\n",
    "\n",
    "# Apply the mapping to the training  data\n",
    "test_data['WEEKDAY_ORDER'] = test_data['WEEKDAY_ORDER'].map(test_weekday_mapping)\n",
    "\n",
    "# Checking for other non-numeric columns\n",
    "test_non_numeric_cols = test_data.select_dtypes(exclude=[np.number]).columns\n",
    "print(\"Non-Numeric Columns:\", test_non_numeric_cols)\n",
    "\n"
   ]
  },
  {
   "cell_type": "code",
   "execution_count": 315,
   "id": "accbdd62",
   "metadata": {},
   "outputs": [
    {
     "name": "stdout",
     "output_type": "stream",
     "text": [
      "Unique values in : [6 3 5 2 4 7 1]\n"
     ]
    }
   ],
   "source": [
    "print(\"Unique values in :\", X['WEEKDAY_ORDER'].unique())\n"
   ]
  },
  {
   "cell_type": "code",
   "execution_count": 254,
   "id": "a99b332a",
   "metadata": {},
   "outputs": [
    {
     "name": "stdout",
     "output_type": "stream",
     "text": [
      "First 10 unique values in TIME_ORDER: ['9:13' '17:36' '11:13' '2:07' '23:46' '13:13' '14:43' '8:51' '16:17'\n",
      " '16:43']\n",
      "First 10 unique values in ANUMMER_02: ['201216' '401285' '100147' '102089' '204921' '406774' '206310' '404645'\n",
      " '408605' '408470']\n",
      "First 10 unique values in ANUMMER_03: ['200578' '400450' '409725' '208777' '508777' '203772' '509121' '401835'\n",
      " '308997' '108500']\n",
      "First 10 unique values in ANUMMER_04: ['209725' '409333' '508997' '307344' '502496' '109121' '409725' '109725'\n",
      " '102133' '104341']\n",
      "First 10 unique values in ANUMMER_05: ['201373' '308997' '307344' '307699' '605685' '204341' '309121' '409101'\n",
      " '508777' '404258']\n",
      "First 10 unique values in MAHN_AKT: ['0' '1' '3' '2']\n",
      "First 10 unique values in MAHN_HOECHST: ['0' '1' '2' '3']\n"
     ]
    }
   ],
   "source": [
    "#after getting the remaining Non-Numeric Columns we-\n",
    "#-would print and examine the unique values in them\n",
    "columns_to_check = ['TIME_ORDER', 'ANUMMER_02', 'ANUMMER_03', 'ANUMMER_04', 'ANUMMER_05', 'MAHN_AKT', 'MAHN_HOECHST']\n",
    "\n",
    "for col in columns_to_check:\n",
    "    unique_values = X[col].unique()\n",
    "    print(f\"First 10 unique values in {col}: {unique_values[:10]}\")\n"
   ]
  },
  {
   "cell_type": "code",
   "execution_count": 316,
   "id": "72060b0b",
   "metadata": {},
   "outputs": [
    {
     "name": "stdout",
     "output_type": "stream",
     "text": [
      "First 10 unique values in TIME_ORDER: ['6:42' '14:44' '18:40' '14:22' '1:54' '21:16' '1:38' '23:40' '21:07'\n",
      " '14:52']\n",
      "First 10 unique values in ANUMMER_02: ['301371' '103776' '403367' '206520' '402677' '107570' '404077' '400953'\n",
      " '400914' '201373']\n",
      "First 10 unique values in ANUMMER_03: ['401223' '206310' '404765' '402123' '501893' '206821' '402116' '405643'\n",
      " '102677' '507344']\n",
      "First 10 unique values in ANUMMER_04: ['504935' '207317' '604485' '200061' '503367' '208397' '603639' '507359'\n",
      " '508997' '402454']\n",
      "First 10 unique values in ANUMMER_05: ['405580' '407255' '307699' '108499' '405378' '206520' '103136' '408777'\n",
      " '600476' '405284']\n",
      "First 10 unique values in MAHN_AKT: ['0' '1' '3' '2']\n",
      "First 10 unique values in MAHN_HOECHST: ['0' '1' '3' '2']\n"
     ]
    }
   ],
   "source": [
    "#after getting the remaining Non-Numeric Columns we-\n",
    "#-would print and examine the unique values in them\n",
    "test_columns_to_check = ['TIME_ORDER', 'ANUMMER_02', 'ANUMMER_03', 'ANUMMER_04', 'ANUMMER_05', 'MAHN_AKT', 'MAHN_HOECHST']\n",
    "\n",
    "for col in test_columns_to_check:\n",
    "    test_unique_values = test_data[col].unique()\n",
    "    print(f\"First 10 unique values in {col}: {test_unique_values[:10]}\")\n"
   ]
  },
  {
   "cell_type": "markdown",
   "id": "238b3b50",
   "metadata": {},
   "source": [
    "## Given this printed data,these are the things i will do for preprocessing:\n",
    "\n",
    "1, Convert TIME_ORDER to minutes past midnight.\n",
    "\n",
    "2, Convert ANUMMER_02, ANUMMER_03, ANUMMER_04, ANUMMER_05 to numerical values or perform OneHotEncoding.\n",
    "\n",
    "3,Treat MAHN_AKT and MAHN_HOECHST as numerical values."
   ]
  },
  {
   "cell_type": "code",
   "execution_count": 317,
   "id": "4dc8c93e",
   "metadata": {},
   "outputs": [],
   "source": [
    "# Converting the TIME_ORDER column to a numerical value representing minutes past midnight\n",
    "\n",
    "def time_to_minutes(time_str):\n",
    "    \"\"\"\n",
    "    Converts a time string in the format 'Hour:Minute' to minutes past midnight.\n",
    "    \n",
    "    Args:\n",
    "    - time_str (str): A string representing time in the format 'Hour:Minute'.\n",
    "    \n",
    "    Returns:\n",
    "    - int: Number of minutes past midnight.\n",
    "    \"\"\"\n",
    "    hours, minutes = map(int, time_str.split(':'))\n",
    "    return hours * 60 + minutes\n",
    "\n",
    "# Applying the function to the TIME_ORDER column\n",
    "X['TIME_ORDER'] = X['TIME_ORDER'].apply(time_to_minutes)\n",
    "\n"
   ]
  },
  {
   "cell_type": "code",
   "execution_count": 319,
   "id": "84a753c9",
   "metadata": {},
   "outputs": [],
   "source": [
    "#test\n",
    "# Converting the TIME_ORDER column to a numerical value representing minutes past midnight\n",
    "\n",
    "def test_time_to_minutes(time_str):\n",
    "    \"\"\"\n",
    "    Converts a time string in the format 'Hour:Minute' to minutes past midnight.\n",
    "    \n",
    "    Args:\n",
    "    - time_str (str): A string representing time in the format 'Hour:Minute'.\n",
    "    \n",
    "    Returns:\n",
    "    - int: Number of minutes past midnight.\n",
    "    \"\"\"\n",
    "    hours, minutes = map(int, time_str.split(':'))\n",
    "    return hours * 60 + minutes\n",
    "\n",
    "# Applying the function to the TIME_ORDER column\n",
    "test_data['TIME_ORDER'] = test_data['TIME_ORDER'].apply(test_time_to_minutes)\n",
    "\n"
   ]
  },
  {
   "cell_type": "code",
   "execution_count": 320,
   "id": "56c8c04f",
   "metadata": {},
   "outputs": [
    {
     "name": "stdout",
     "output_type": "stream",
     "text": [
      "TIME_ORDER has 1439 unique values.\n",
      "ANUMMER_02 has 560 unique values.\n",
      "ANUMMER_03 has 560 unique values.\n",
      "ANUMMER_04 has 498 unique values.\n",
      "ANUMMER_05 has 347 unique values.\n",
      "MAHN_AKT has 4 unique values.\n",
      "MAHN_HOECHST has 4 unique values.\n"
     ]
    }
   ],
   "source": [
    "# Defining the columns to check\n",
    "columns_to_check = ['TIME_ORDER', 'ANUMMER_02', 'ANUMMER_03', 'ANUMMER_04', 'ANUMMER_05', 'MAHN_AKT', 'MAHN_HOECHST']\n",
    "\n",
    "# Checking the number of unique values for each column\n",
    "for column in columns_to_check:\n",
    "    num_unique_values = X[column].nunique()\n",
    "    print(f\"{column} has {num_unique_values} unique values.\")\n"
   ]
  },
  {
   "cell_type": "code",
   "execution_count": 321,
   "id": "6054861f",
   "metadata": {},
   "outputs": [
    {
     "name": "stdout",
     "output_type": "stream",
     "text": [
      "TIME_ORDER has 1439 unique values.\n",
      "ANUMMER_02 has 560 unique values.\n",
      "ANUMMER_03 has 544 unique values.\n",
      "ANUMMER_04 has 444 unique values.\n",
      "ANUMMER_05 has 268 unique values.\n",
      "MAHN_AKT has 4 unique values.\n",
      "MAHN_HOECHST has 4 unique values.\n"
     ]
    }
   ],
   "source": [
    "#test\n",
    "# Defining the columns to check\n",
    "test_columns_to_check = ['TIME_ORDER', 'ANUMMER_02', 'ANUMMER_03', 'ANUMMER_04', 'ANUMMER_05', 'MAHN_AKT', 'MAHN_HOECHST']\n",
    "\n",
    "# Checking the number of unique values for each column\n",
    "for column in test_columns_to_check:\n",
    "    test_num_unique_values = test_data[column].nunique()\n",
    "    print(f\"{column} has {test_num_unique_values} unique values.\")\n"
   ]
  },
  {
   "cell_type": "markdown",
   "id": "2765edd7",
   "metadata": {},
   "source": [
    "#### 1, \n",
    "For the ANUMMER_02, ANUMMER_03, ANUMMER_04, and ANUMMER_05 columns, One-hot encoding them might introduce too many new features but im still going to one hot encode it and i could treat them like numerical for simplicity if needed.\n",
    "#### 2,\n",
    "We would extract the hour from TIME_ORDER as a new feature. This will convert the 1439 unique values down to just 24.\n",
    "#### 3\n",
    "Then One-hot encode MAHN_AKT and MAHN_HOECHST."
   ]
  },
  {
   "cell_type": "code",
   "execution_count": 322,
   "id": "26c602a1",
   "metadata": {},
   "outputs": [
    {
     "name": "stdout",
     "output_type": "stream",
     "text": [
      "int64\n",
      "<bound method Series.unique of 0         553\n",
      "1        1056\n",
      "2         673\n",
      "3         127\n",
      "4        1426\n",
      "         ... \n",
      "29995    1101\n",
      "29996     951\n",
      "29997     637\n",
      "29998     112\n",
      "29999    1234\n",
      "Name: TIME_ORDER, Length: 30000, dtype: int64>\n"
     ]
    }
   ],
   "source": [
    "print(X['TIME_ORDER'].dtype)\n",
    "print(X['TIME_ORDER'].unique)"
   ]
  },
  {
   "cell_type": "code",
   "execution_count": 323,
   "id": "089bbee6",
   "metadata": {},
   "outputs": [],
   "source": [
    "X['HOUR_ORDER'] = X['TIME_ORDER'] // 60\n"
   ]
  },
  {
   "cell_type": "code",
   "execution_count": 324,
   "id": "c67e5a57",
   "metadata": {},
   "outputs": [],
   "source": [
    "#Dropping the original TIME_ORDER column\n",
    "X.drop('TIME_ORDER', axis=1, inplace=True)\n"
   ]
  },
  {
   "cell_type": "code",
   "execution_count": 325,
   "id": "373ab2f3",
   "metadata": {},
   "outputs": [],
   "source": [
    "#test\n",
    "test_data['HOUR_ORDER'] = test_data['TIME_ORDER'] // 60\n",
    "#Dropping the original TIME_ORDER column\n",
    "test_data.drop('TIME_ORDER', axis=1, inplace=True)\n"
   ]
  },
  {
   "cell_type": "code",
   "execution_count": 326,
   "id": "a7e2a7e1",
   "metadata": {},
   "outputs": [],
   "source": [
    "# Columns to be one-hot encoded\n",
    "ohe_columns = ['MAHN_AKT', 'MAHN_HOECHST', 'ANUMMER_02', 'ANUMMER_03', 'ANUMMER_04', 'ANUMMER_05']\n"
   ]
  },
  {
   "cell_type": "code",
   "execution_count": 327,
   "id": "60ec97e3",
   "metadata": {},
   "outputs": [],
   "source": [
    "#test\n",
    "# Columns to be one-hot encoded\n",
    "test_ohe_columns = ['MAHN_AKT', 'MAHN_HOECHST', 'ANUMMER_02', 'ANUMMER_03', 'ANUMMER_04', 'ANUMMER_05']\n"
   ]
  },
  {
   "cell_type": "code",
   "execution_count": 328,
   "id": "ab7d7fef",
   "metadata": {},
   "outputs": [],
   "source": [
    "from sklearn.model_selection import train_test_split\n",
    "#splitting to training and validation subset\n",
    "X_train, X_val, y_train, y_val = train_test_split(X, y, test_size=0.2, random_state=42)\n"
   ]
  },
  {
   "cell_type": "code",
   "execution_count": 329,
   "id": "db69a30c",
   "metadata": {},
   "outputs": [],
   "source": [
    "#applying one-hot encoding on the training set\n",
    "X_train_encoded = pd.get_dummies(X_train, columns=ohe_columns)\n",
    "\n",
    "# And on the validation set\n",
    "X_val_encoded = pd.get_dummies(X_val, columns=ohe_columns)\n",
    "# Find missing columns\n",
    "missing_cols = set(X_train_encoded.columns) - set(X_val_encoded.columns)\n",
    "\n",
    "# Add missing columns to validation set with default value of 0\n",
    "df_missing_cols = pd.DataFrame(0, index=X_val_encoded.index, columns=list(missing_cols))\n",
    "\n",
    "# Concatenate the original X_val_encoded with the missing columns\n",
    "X_val_encoded = pd.concat([X_val_encoded, df_missing_cols], axis=1)\n",
    "\n",
    "# Reordering the columns to match the training set\n",
    "X_val_encoded = X_val_encoded[X_train_encoded.columns]\n",
    "\n",
    "# Copying the dataframes to reduce fragmentation\n",
    "X_train_encoded = X_train_encoded.copy()\n",
    "X_val_encoded = X_val_encoded.copy()\n"
   ]
  },
  {
   "cell_type": "code",
   "execution_count": 330,
   "id": "734c546f",
   "metadata": {},
   "outputs": [],
   "source": [
    "#test\n",
    "#applying one-hot encoding on the test set\n",
    "test_data_encoded = pd.get_dummies(test_data, columns=test_ohe_columns)\n",
    "\n",
    "# Find missing columns\n",
    "test_missing_cols = set(X_train_encoded.columns) - set(test_data_encoded.columns)\n",
    "\n",
    "# Add missing columns to test set with default value of 0\n",
    "test_df_missing_cols = pd.DataFrame(0, index=test_data_encoded.index, columns=list(test_missing_cols))\n",
    "\n",
    "# Concatenate the original test_encoded with the missing columns\n",
    "test_data_encoded = pd.concat([test_data_encoded, test_df_missing_cols], axis=1)\n",
    "\n",
    "# Reordering the columns to match the training set\n",
    "test_data_encoded = test_data_encoded[X_train_encoded.columns]\n",
    "\n",
    "# Copying the dataframes to reduce fragmentation\n",
    "test_data_encoded = test_data_encoded.copy()\n"
   ]
  },
  {
   "cell_type": "code",
   "execution_count": 333,
   "id": "558e3557",
   "metadata": {},
   "outputs": [
    {
     "name": "stdout",
     "output_type": "stream",
     "text": [
      "X_train_encoded shape: (24000, 1925)\n",
      "y_train shape: (24000,)\n",
      "test_data_encoded shape: (20000, 1925)\n"
     ]
    }
   ],
   "source": [
    "print(\"X_train_encoded shape:\", X_train_encoded.shape)\n",
    "print(\"y_train shape:\", y_train.shape)\n",
    "print(\"test_data_encoded shape:\", test_data_encoded.shape)"
   ]
  },
  {
   "cell_type": "code",
   "execution_count": 334,
   "id": "5bf3da4e",
   "metadata": {},
   "outputs": [
    {
     "name": "stdout",
     "output_type": "stream",
     "text": [
      "NaN values in X_encoded VALUE_ORDER          0\n",
      "WEEKDAY_ORDER        0\n",
      "AMOUNT_ORDER         0\n",
      "ANUMMER_01           0\n",
      "SESSION_TIME         0\n",
      "                    ..\n",
      "ANUMMER_05_607699    0\n",
      "ANUMMER_05_608801    0\n",
      "ANUMMER_05_608889    0\n",
      "ANUMMER_05_609500    0\n",
      "ANUMMER_05_609725    0\n",
      "Length: 1925, dtype: int64\n"
     ]
    }
   ],
   "source": [
    "print(\"NaN values in X_encoded\", X_train_encoded.isna().sum())"
   ]
  },
  {
   "cell_type": "code",
   "execution_count": 335,
   "id": "e5dce712",
   "metadata": {},
   "outputs": [
    {
     "name": "stdout",
     "output_type": "stream",
     "text": [
      "NaN values in test_data_encoded VALUE_ORDER          0\n",
      "WEEKDAY_ORDER        0\n",
      "AMOUNT_ORDER         0\n",
      "ANUMMER_01           0\n",
      "SESSION_TIME         0\n",
      "                    ..\n",
      "ANUMMER_05_607699    0\n",
      "ANUMMER_05_608801    0\n",
      "ANUMMER_05_608889    0\n",
      "ANUMMER_05_609500    0\n",
      "ANUMMER_05_609725    0\n",
      "Length: 1925, dtype: int64\n"
     ]
    }
   ],
   "source": [
    "print(\"NaN values in test_data_encoded\", test_data_encoded.isna().sum())"
   ]
  },
  {
   "cell_type": "markdown",
   "id": "788a26c0",
   "metadata": {},
   "source": [
    "## The next steps is to use the Logistic Regression Model:\n",
    "\n",
    "#### 1,\n",
    "Data Preprocessing: Since logistic regression is sensitive to feature scaling, we'll first scale our data.\n",
    "#### 2,\n",
    "Model Training: We'll use the LogisticRegression from sklearn to train the model on the training data.\n",
    "#### 3'\n",
    "Model Evaluation: We'll evaluate the model on the validation data.\n",
    "#### 4,\n",
    "Interpretation: Based on the evaluation, we'll make decisions about next steps."
   ]
  },
  {
   "cell_type": "code",
   "execution_count": 337,
   "id": "7c97b8be",
   "metadata": {},
   "outputs": [],
   "source": [
    "from sklearn.preprocessing import StandardScaler\n",
    "\n",
    "# Initialize the StandardScaler\n",
    "scaler = StandardScaler()\n",
    "\n",
    "# Fitting on training data and transform\n",
    "X_train_scaled = scaler.fit_transform(X_train_encoded)\n"
   ]
  },
  {
   "cell_type": "code",
   "execution_count": 338,
   "id": "6c3899d3",
   "metadata": {},
   "outputs": [
    {
     "data": {
      "text/html": [
       "<style>#sk-container-id-4 {color: black;background-color: white;}#sk-container-id-4 pre{padding: 0;}#sk-container-id-4 div.sk-toggleable {background-color: white;}#sk-container-id-4 label.sk-toggleable__label {cursor: pointer;display: block;width: 100%;margin-bottom: 0;padding: 0.3em;box-sizing: border-box;text-align: center;}#sk-container-id-4 label.sk-toggleable__label-arrow:before {content: \"▸\";float: left;margin-right: 0.25em;color: #696969;}#sk-container-id-4 label.sk-toggleable__label-arrow:hover:before {color: black;}#sk-container-id-4 div.sk-estimator:hover label.sk-toggleable__label-arrow:before {color: black;}#sk-container-id-4 div.sk-toggleable__content {max-height: 0;max-width: 0;overflow: hidden;text-align: left;background-color: #f0f8ff;}#sk-container-id-4 div.sk-toggleable__content pre {margin: 0.2em;color: black;border-radius: 0.25em;background-color: #f0f8ff;}#sk-container-id-4 input.sk-toggleable__control:checked~div.sk-toggleable__content {max-height: 200px;max-width: 100%;overflow: auto;}#sk-container-id-4 input.sk-toggleable__control:checked~label.sk-toggleable__label-arrow:before {content: \"▾\";}#sk-container-id-4 div.sk-estimator input.sk-toggleable__control:checked~label.sk-toggleable__label {background-color: #d4ebff;}#sk-container-id-4 div.sk-label input.sk-toggleable__control:checked~label.sk-toggleable__label {background-color: #d4ebff;}#sk-container-id-4 input.sk-hidden--visually {border: 0;clip: rect(1px 1px 1px 1px);clip: rect(1px, 1px, 1px, 1px);height: 1px;margin: -1px;overflow: hidden;padding: 0;position: absolute;width: 1px;}#sk-container-id-4 div.sk-estimator {font-family: monospace;background-color: #f0f8ff;border: 1px dotted black;border-radius: 0.25em;box-sizing: border-box;margin-bottom: 0.5em;}#sk-container-id-4 div.sk-estimator:hover {background-color: #d4ebff;}#sk-container-id-4 div.sk-parallel-item::after {content: \"\";width: 100%;border-bottom: 1px solid gray;flex-grow: 1;}#sk-container-id-4 div.sk-label:hover label.sk-toggleable__label {background-color: #d4ebff;}#sk-container-id-4 div.sk-serial::before {content: \"\";position: absolute;border-left: 1px solid gray;box-sizing: border-box;top: 0;bottom: 0;left: 50%;z-index: 0;}#sk-container-id-4 div.sk-serial {display: flex;flex-direction: column;align-items: center;background-color: white;padding-right: 0.2em;padding-left: 0.2em;position: relative;}#sk-container-id-4 div.sk-item {position: relative;z-index: 1;}#sk-container-id-4 div.sk-parallel {display: flex;align-items: stretch;justify-content: center;background-color: white;position: relative;}#sk-container-id-4 div.sk-item::before, #sk-container-id-4 div.sk-parallel-item::before {content: \"\";position: absolute;border-left: 1px solid gray;box-sizing: border-box;top: 0;bottom: 0;left: 50%;z-index: -1;}#sk-container-id-4 div.sk-parallel-item {display: flex;flex-direction: column;z-index: 1;position: relative;background-color: white;}#sk-container-id-4 div.sk-parallel-item:first-child::after {align-self: flex-end;width: 50%;}#sk-container-id-4 div.sk-parallel-item:last-child::after {align-self: flex-start;width: 50%;}#sk-container-id-4 div.sk-parallel-item:only-child::after {width: 0;}#sk-container-id-4 div.sk-dashed-wrapped {border: 1px dashed gray;margin: 0 0.4em 0.5em 0.4em;box-sizing: border-box;padding-bottom: 0.4em;background-color: white;}#sk-container-id-4 div.sk-label label {font-family: monospace;font-weight: bold;display: inline-block;line-height: 1.2em;}#sk-container-id-4 div.sk-label-container {text-align: center;}#sk-container-id-4 div.sk-container {/* jupyter's `normalize.less` sets `[hidden] { display: none; }` but bootstrap.min.css set `[hidden] { display: none !important; }` so we also need the `!important` here to be able to override the default hidden behavior on the sphinx rendered scikit-learn.org. See: https://github.com/scikit-learn/scikit-learn/issues/21755 */display: inline-block !important;position: relative;}#sk-container-id-4 div.sk-text-repr-fallback {display: none;}</style><div id=\"sk-container-id-4\" class=\"sk-top-container\"><div class=\"sk-text-repr-fallback\"><pre>LogisticRegression(max_iter=1000, random_state=42)</pre><b>In a Jupyter environment, please rerun this cell to show the HTML representation or trust the notebook. <br />On GitHub, the HTML representation is unable to render, please try loading this page with nbviewer.org.</b></div><div class=\"sk-container\" hidden><div class=\"sk-item\"><div class=\"sk-estimator sk-toggleable\"><input class=\"sk-toggleable__control sk-hidden--visually\" id=\"sk-estimator-id-4\" type=\"checkbox\" checked><label for=\"sk-estimator-id-4\" class=\"sk-toggleable__label sk-toggleable__label-arrow\">LogisticRegression</label><div class=\"sk-toggleable__content\"><pre>LogisticRegression(max_iter=1000, random_state=42)</pre></div></div></div></div></div>"
      ],
      "text/plain": [
       "LogisticRegression(max_iter=1000, random_state=42)"
      ]
     },
     "execution_count": 338,
     "metadata": {},
     "output_type": "execute_result"
    }
   ],
   "source": [
    "#Training the Logistic Regression Model:\n",
    "from sklearn.linear_model import LogisticRegression\n",
    "\n",
    "# Initialize and train the model\n",
    "logreg = LogisticRegression(max_iter=1000, random_state=42)\n",
    "logreg.fit(X_train_scaled, y_train)\n"
   ]
  },
  {
   "cell_type": "code",
   "execution_count": 339,
   "id": "9a296bef",
   "metadata": {},
   "outputs": [
    {
     "name": "stdout",
     "output_type": "stream",
     "text": [
      "Validation Accuracy: 0.937\n"
     ]
    }
   ],
   "source": [
    "#Evaluating Model Performance\n",
    "from sklearn.metrics import accuracy_score\n",
    "X_val_scaled = scaler.transform(X_val_encoded)\n",
    "# Predicting on the validation set\n",
    "y_val_pred = logreg.predict(X_val_scaled)\n",
    "\n",
    "# Calculating accuracy\n",
    "accuracy = accuracy_score(y_val, y_val_pred)\n",
    "print(f\"Validation Accuracy: {accuracy:.3f}\")\n"
   ]
  },
  {
   "cell_type": "code",
   "execution_count": 340,
   "id": "78999ae5",
   "metadata": {},
   "outputs": [
    {
     "name": "stdout",
     "output_type": "stream",
     "text": [
      "              precision    recall  f1-score   support\n",
      "\n",
      "          no       0.95      0.99      0.97      5669\n",
      "         yes       0.15      0.03      0.05       331\n",
      "\n",
      "    accuracy                           0.94      6000\n",
      "   macro avg       0.55      0.51      0.51      6000\n",
      "weighted avg       0.90      0.94      0.92      6000\n",
      "\n"
     ]
    }
   ],
   "source": [
    "from sklearn.metrics import classification_report\n",
    "\n",
    "\n",
    "# Predict on validation data\n",
    "y_val_pred = logreg.predict(X_val_scaled)\n",
    "\n",
    "# Print classification report\n",
    "report_logis = classification_report(y_val, y_val_pred, target_names=['no', 'yes'])\n",
    "print(report_logis)\n"
   ]
  },
  {
   "cell_type": "markdown",
   "id": "171add67",
   "metadata": {},
   "source": [
    "### Here are some key takeaways from the classification report:\n",
    "\n",
    "Precision for 'yes': This is quite low at 0.15. Precision indicates out of all instances predicted as 'yes', only 15% were actually 'yes'. This means that when the model says something is 'yes', there's a good chance it's not.\n",
    "\n",
    "Recall for 'yes': This is also quite low at 0.03. Recall indicates out of all actual 'yes' instances, the model could only correctly predict 3% of them. This means the model is missing out on a lot of actual 'yes' cases.\n",
    "\n",
    "F1-score for 'yes': Combines precision and recall into a single metric, which is 0.05 for 'yes', confirming that the performance for this class is poor.\n",
    "\n",
    "The model has a high accuracy of 0.94 mainly because it's really good at predicting the 'no' class (which appears to be the dominant class given the provided data).\n",
    "\n",
    "The imbalanced nature of the dataset (5669 'no' vs 331 'yes') might be contributing to this skewed performance. In imbalanced datasets, machine learning algorithms tend to favor the dominant class."
   ]
  },
  {
   "cell_type": "markdown",
   "id": "6b01724a",
   "metadata": {},
   "source": [
    "### Next steps that would be done will be:\n",
    "#### 1, Predicting Probabilities:\n",
    "We will begin by using the trained logistic regression model to predict the probability estimates for each class on the validation set.  then extract the probabilities for the 'yes' (high risk) class.\n",
    "#### 2, Defining a Cost Calculation Function:\n",
    "Next, we'll define a function that calculates the misclassification cost based on the provided cost matrix.\n",
    "#### 3, Finding the Optimal Threshold:\n",
    "we'll loop through potential threshold values to determine which threshold minimizes the misclassification cost.\n",
    "#### 4,  Using the Optimal Threshold:\n",
    "Once we've found the optimal threshold, we'll use it to make predictions on our validation set."
   ]
  },
  {
   "cell_type": "code",
   "execution_count": 341,
   "id": "bbb9d692",
   "metadata": {},
   "outputs": [],
   "source": [
    "# Predicting probabilities for the 'yes' class\n",
    "y_val_prob = logreg.predict_proba(X_val_scaled)[:, 1]\n",
    "\n",
    "def calculate_cost(y_true, y_pred):\n",
    "    \"\"\"\n",
    "    This function computes the misclassification cost based on the cost matrix:\n",
    "    Misclassifying a high-risk order ('yes') as low-risk ('no') costs 50.\n",
    "    Misclassifying a low-risk order ('no') as high-risk ('yes') costs 5.\n",
    "    Correct classifications have no cost.\n",
    "    \"\"\"\n",
    "    cost_matrix = {\n",
    "        \"actual_yes\": {\"predicted_yes\": 0, \"predicted_no\": 50},\n",
    "        \"actual_no\": {\"predicted_yes\": 5, \"predicted_no\": 0}\n",
    "    }\n",
    "    \n",
    "    cost = 0\n",
    "    for actual, predicted in zip(y_true, y_pred):\n",
    "        if actual == 'yes' and predicted == 'yes':\n",
    "            cost += cost_matrix[\"actual_yes\"][\"predicted_yes\"]\n",
    "        elif actual == 'yes' and predicted == 'no':\n",
    "            cost += cost_matrix[\"actual_yes\"][\"predicted_no\"]\n",
    "        elif actual == 'no' and predicted == 'yes':\n",
    "            cost += cost_matrix[\"actual_no\"][\"predicted_yes\"]\n",
    "        else:\n",
    "            cost += cost_matrix[\"actual_no\"][\"predicted_no\"]\n",
    "    return cost\n"
   ]
  },
  {
   "cell_type": "code",
   "execution_count": 342,
   "id": "67066e1c",
   "metadata": {},
   "outputs": [
    {
     "name": "stdout",
     "output_type": "stream",
     "text": [
      "Optimal Threshold: 0.12121212121212122\n"
     ]
    }
   ],
   "source": [
    "# Creating a list of 100 potential thresholds from 0 to 1\n",
    "thresholds = np.linspace(0, 1, 100)\n",
    "costs = []\n",
    "\n",
    "# For each threshold, we would compute the misclassification cost and store it\n",
    "for threshold in thresholds:\n",
    "    y_val_pred_threshold = ['yes' if prob > threshold else 'no' for prob in y_val_prob]\n",
    "    costs.append(calculate_cost(y_val, y_val_pred_threshold))\n",
    "\n",
    "# Get the threshold that has the lowest misclassification cost\n",
    "optimal_threshold = thresholds[np.argmin(costs)]\n",
    "print(f\"Optimal Threshold: {optimal_threshold}\")\n"
   ]
  },
  {
   "cell_type": "markdown",
   "id": "f4866b08",
   "metadata": {},
   "source": [
    "The Optimal threshold means that when predicting the risk of default payment for an order, if the predicted probability of being high-risk (yes) is greater than 0.1212, then it should be classified as high-risk. If the probability is less than or equal to this threshold, it should be classified as low-risk (no)."
   ]
  },
  {
   "cell_type": "code",
   "execution_count": 343,
   "id": "b540ab90",
   "metadata": {},
   "outputs": [
    {
     "name": "stdout",
     "output_type": "stream",
     "text": [
      "Validation Misclassification Cost: 14455\n"
     ]
    }
   ],
   "source": [
    "# Making predictions on the validation data using the optimal threshold\n",
    "y_val_pred_optimal = ['yes' if prob > optimal_threshold else 'no' for prob in y_val_prob]\n",
    "\n",
    "# Calculate the misclassification cost on validation data using optimal threshold\n",
    "validation_cost = calculate_cost(y_val, y_val_pred_optimal)\n",
    "print(f\"Validation Misclassification Cost: {validation_cost}\")\n"
   ]
  },
  {
   "cell_type": "markdown",
   "id": "cb1e0d31",
   "metadata": {},
   "source": []
  },
  {
   "cell_type": "markdown",
   "id": "3db61b0e",
   "metadata": {},
   "source": [
    "#### I will be trying using a Gradient Boosted Trees model, specifically the XGBoost implementation and if its more cost effective I will use it. Here's why:\n",
    "\n",
    "Handling Imbalanced Datasets: XGBoost allows for setting a scale_pos_weight parameter which is useful for imbalanced classes. It provides a balance to the positive class. This can improve recall for the minority class without requiring explicit resampling.\n",
    "\n",
    "Flexibility: XGBoost offers a lot of hyperparameters for fine-tuning, which means there's a good chance to find an optimal configuration for this specific dataset.\n",
    "\n",
    "Robustness: Gradient boosting, in general, is less prone to overfitting. Given a proper hyperparameter setting, it can generalize well on unseen data.\n",
    "\n",
    "Performance: XGBoost often delivers high-performance results and is a staple in many machine learning competitions for classification tasks.\n",
    "\n"
   ]
  },
  {
   "cell_type": "code",
   "execution_count": 344,
   "id": "f5d999a6",
   "metadata": {
    "scrolled": true
   },
   "outputs": [
    {
     "name": "stdout",
     "output_type": "stream",
     "text": [
      "              precision    recall  f1-score   support\n",
      "\n",
      "          no       0.96      0.83      0.89      5669\n",
      "         yes       0.12      0.41      0.19       331\n",
      "\n",
      "    accuracy                           0.81      6000\n",
      "   macro avg       0.54      0.62      0.54      6000\n",
      "weighted avg       0.91      0.81      0.85      6000\n",
      "\n",
      "Cost of misclassifications using XGBoost: 14665\n"
     ]
    }
   ],
   "source": [
    "import xgboost as xgb\n",
    "\n",
    "# Converting target variables to numeric (1 for 'yes' and 0 for 'no')\n",
    "y_train_encoded = y_train.replace({'yes': 1, 'no': 0})\n",
    "y_val_encoded = y_val.replace({'yes': 1, 'no': 0})\n",
    "\n",
    "# Calculate the ratio of negative to positive class\n",
    "# This will be used for the 'scale_pos_weight' parameter\n",
    "ratio = float(np.sum(y_train_encoded == 0)) / np.sum(y_train_encoded == 1)\n",
    "\n",
    "# Initialize the XGBoost classifier\n",
    "clf = xgb.XGBClassifier(scale_pos_weight=ratio, objective='binary:logistic', random_state=42)\n",
    "\n",
    "# Train the model\n",
    "clf.fit(X_train_scaled, y_train_encoded)\n",
    "\n",
    "# Predict on validation data\n",
    "y_val_pred_num = clf.predict(X_val_scaled)\n",
    "\n",
    "# Convert back the predictions to original labels for evaluation\n",
    "y_val_pred_decoded = pd.Series(y_val_pred_num).replace({1: 'yes', 0: 'no'})\n",
    "\n",
    "# Evaluate performance\n",
    "report = classification_report(y_val, y_val_pred_decoded, target_names=['no', 'yes'])\n",
    "print(report)\n",
    "\n",
    "# Your cost calculation function\n",
    "def calculate_cost(y_true, y_pred):\n",
    "    \"\"\"\n",
    "    This function computes the misclassification cost based on the cost matrix:\n",
    "    Misclassifying a high-risk order ('yes') as low-risk ('no') costs 50.\n",
    "    Misclassifying a low-risk order ('no') as high-risk ('yes') costs 5.\n",
    "    Correct classifications have no cost.\n",
    "    \"\"\"\n",
    "    cost_matrix = {\n",
    "        \"actual_yes\": {\"predicted_yes\": 0, \"predicted_no\": 50},\n",
    "        \"actual_no\": {\"predicted_yes\": 5, \"predicted_no\": 0}\n",
    "    }\n",
    "    \n",
    "    cost = 0\n",
    "    for actual, predicted in zip(y_true, y_pred):\n",
    "        if actual == 'yes' and predicted == 'yes':\n",
    "            cost += cost_matrix[\"actual_yes\"][\"predicted_yes\"]\n",
    "        elif actual == 'yes' and predicted == 'no':\n",
    "            cost += cost_matrix[\"actual_yes\"][\"predicted_no\"]\n",
    "        elif actual == 'no' and predicted == 'yes':\n",
    "            cost += cost_matrix[\"actual_no\"][\"predicted_yes\"]\n",
    "        else:\n",
    "            cost += cost_matrix[\"actual_no\"][\"predicted_no\"]\n",
    "    return cost\n",
    "\n",
    "# Calculate Misclassification Cost for XGBoost\n",
    "misclassification_cost_xgb = calculate_cost(y_val, y_val_pred_decoded)\n",
    "print(f\"Cost of misclassifications using XGBoost: {misclassification_cost_xgb}\")\n"
   ]
  },
  {
   "cell_type": "markdown",
   "id": "6ad3028d",
   "metadata": {},
   "source": [
    "Based on the results we got from both models:\n",
    "\n",
    "**Logistic Regression**:\n",
    "- Precision (yes): 0.15\n",
    "- Recall (yes): 0.03\n",
    "- Misclassification Cost: 14455\n",
    "\n",
    "**XGBoost**:\n",
    "- Precision (yes): 0.12\n",
    "- Recall (yes): 0.41\n",
    "- Misclassification Cost: 14665\n",
    "\n",
    "From these metrics:\n",
    "\n",
    "1. **Misclassification Cost**:\n",
    "    - Logistic Regression has a lower misclassification cost (14455) compared to XGBoost (14665). So, based purely on cost, Logistic Regression is preferable.\n",
    "\n",
    "2. **Precision and Recall for the 'yes' class**:\n",
    "    - Precision measures the accuracy of positive predictions. Higher precision means that more of the predicted \"yes\" instances are actual \"yes\" instances.\n",
    "        - Logistic Regression has a higher precision (0.15) for the 'yes' class compared to XGBoost (0.12).\n",
    "    - Recall (or Sensitivity) indicates the fraction of actual 'yes' instances that were captured. A higher recall means that more actual \"yes\" instances were correctly identified.\n",
    "        - XGBoost has a substantially higher recall (0.41) for the 'yes' class compared to Logistic Regression (0.03).\n",
    "\n",
    "3. **F1-score**:\n",
    "    - The F1-score for the 'yes' class, which is the harmonic mean of precision and recall, is higher for XGBoost (0.19) than for Logistic Regression (0.05). A higher F1-score indicates a balance between precision and recall, and in this case, suggests XGBoost is doing a better job at finding a middle ground between the two.\n",
    "\n",
    "4. **Overall Accuracy**:\n",
    "    - The overall accuracy for Logistic Regression (0.94) is higher than for XGBoost (0.81). However, in imbalanced datasets, accuracy can be misleading, as it might achieve high accuracy by simply predicting the majority class.\n",
    "\n",
    "**Conclusion**:\n",
    "\n",
    "\n",
    "Given this, the best model would depend on the specific priorities and business objectives. If the priority is to catch as many 'yes' instances as possible (e.g., for preventive measures), even at the expense of having more false positives, XGBoost would be more suited. On the other hand, if the focus is strictly on minimizing the cost, then the slight edge of Logistic Regression in terms of misclassification cost would make it preferable.\n",
    "\n",
    "#### The main objective is to minimize the cost of misclassification:\n",
    "\n",
    "Misclassifying a high-risk order ('yes') as low-risk ('no') costs 50.\n",
    "Misclassifying a low-risk order ('no') as high-risk ('yes') costs 5.\n",
    "Given this objective, the primary focus is minimizing the misclassification cost so we would go with the logistic regression.\n",
    "\n",
    "\n",
    "\n",
    "\n"
   ]
  },
  {
   "cell_type": "code",
   "execution_count": null,
   "id": "7fb79e59",
   "metadata": {},
   "outputs": [],
   "source": []
  },
  {
   "cell_type": "markdown",
   "id": "c12c588f",
   "metadata": {},
   "source": [
    "## visualization of the logistic regression "
   ]
  },
  {
   "cell_type": "code",
   "execution_count": 345,
   "id": "b508d2f4",
   "metadata": {},
   "outputs": [
    {
     "data": {
      "image/png": "[encoded data removed]",
      "text/plain": [
       "<Figure size 1000x700 with 1 Axes>"
      ]
     },
     "metadata": {},
     "output_type": "display_data"
    }
   ],
   "source": [
    "from sklearn.metrics import roc_curve, auc\n",
    "import matplotlib.pyplot as plt\n",
    "\n",
    "# Get false positive rate, true positive rate\n",
    "fpr, tpr, _ = roc_curve(y_val.map({'yes': 1, 'no': 0}), y_val_prob)\n",
    "\n",
    "# Plottiing the ROC curve To show the trade-off between the true positive rate and the false positive rate\n",
    "plt.figure(figsize=(10,7))\n",
    "plt.plot(fpr, tpr, color='darkorange', lw=2, label=f'ROC curve (area = {auc(fpr, tpr):.2f})')\n",
    "plt.plot([0, 1], [0, 1], color='navy', lw=2, linestyle='--')\n",
    "plt.xlim([0.0, 1.0])\n",
    "plt.ylim([0.0, 1.05])\n",
    "plt.xlabel('False Positive Rate')\n",
    "plt.ylabel('True Positive Rate')\n",
    "plt.title('Receiver Operating Characteristic (ROC) Curve')\n",
    "plt.legend(loc=\"lower right\")\n",
    "plt.show()\n"
   ]
  },
  {
   "cell_type": "code",
   "execution_count": 346,
   "id": "57300c75",
   "metadata": {},
   "outputs": [
    {
     "data": {
      "image/png": "[encoded data removed]",
      "text/plain": [
       "<Figure size 1000x700 with 1 Axes>"
      ]
     },
     "metadata": {},
     "output_type": "display_data"
    }
   ],
   "source": [
    "# Plotting the cost across different thresholds to help us understand how the misclassification cost changes across different thresholds\n",
    "plt.figure(figsize=(10,7))\n",
    "plt.plot(thresholds, costs, '-r', label='Misclassification Cost')\n",
    "plt.xlabel('Threshold')\n",
    "plt.ylabel('Cost')\n",
    "plt.title('Misclassification Cost across Different Thresholds')\n",
    "plt.legend()\n",
    "plt.axvline(x=optimal_threshold, color='k', linestyle='--', label=f'Optimal Threshold: {optimal_threshold:.2f}')\n",
    "plt.legend()\n",
    "plt.show()\n"
   ]
  },
  {
   "cell_type": "markdown",
   "id": "74766d97",
   "metadata": {},
   "source": [
    "computing the confusion matrix to see how many True Positives (TP), True Negatives (TN), False Positives (FP), and False Negatives (FN) our model produced"
   ]
  },
  {
   "cell_type": "code",
   "execution_count": 347,
   "id": "7b6df79f",
   "metadata": {},
   "outputs": [
    {
     "data": {
      "image/png": "[encoded data removed]",
      "text/plain": [
       "<Figure size 800x600 with 2 Axes>"
      ]
     },
     "metadata": {},
     "output_type": "display_data"
    }
   ],
   "source": [
    "from sklearn.metrics import confusion_matrix\n",
    "import seaborn as sns\n",
    "import matplotlib.pyplot as plt\n",
    "\n",
    "# Compute confusion matrix\n",
    "cm = confusion_matrix(y_val, y_val_pred_optimal, labels=['no', 'yes'])\n",
    "\n",
    "# Plot confusion matrix\n",
    "plt.figure(figsize=(8,6))\n",
    "sns.heatmap(cm, annot=True, fmt='d', cmap=\"Blues\", xticklabels=['Predicted No', 'Predicted Yes'], yticklabels=['Actual No', 'Actual Yes'])\n",
    "plt.title(\"Confusion Matrix\")\n",
    "plt.show()\n"
   ]
  },
  {
   "cell_type": "code",
   "execution_count": 348,
   "id": "3bf056df",
   "metadata": {},
   "outputs": [
    {
     "data": {
      "image/png": "[encoded data removed]",
      "text/plain": [
       "<Figure size 1000x600 with 1 Axes>"
      ]
     },
     "metadata": {},
     "output_type": "display_data"
    }
   ],
   "source": [
    "# plotting to check for the cost Across Thresholds\n",
    "plt.figure(figsize=(10,6))\n",
    "plt.plot(thresholds, costs, '-o')\n",
    "plt.title(\"Misclassification Cost across Thresholds\")\n",
    "plt.xlabel(\"Threshold\")\n",
    "plt.ylabel(\"Cost\")\n",
    "plt.axvline(optimal_threshold, color='red', linestyle='--', label=f'Optimal Threshold: {optimal_threshold}')\n",
    "plt.legend()\n",
    "plt.grid(True)\n",
    "plt.show()\n"
   ]
  },
  {
   "cell_type": "markdown",
   "id": "a4965ebb",
   "metadata": {},
   "source": [
    "# PART 2"
   ]
  },
  {
   "cell_type": "code",
   "execution_count": null,
   "id": "f3dc223d",
   "metadata": {},
   "outputs": [],
   "source": []
  },
  {
   "cell_type": "code",
   "execution_count": 349,
   "id": "9816e7f2",
   "metadata": {},
   "outputs": [],
   "source": [
    "from sklearn.preprocessing import StandardScaler\n",
    "\n",
    "# Initialize the StandardScaler\n",
    "scaler = StandardScaler()\n",
    "\n",
    "# Fitting on training data and transform\n",
    "test_data_scaled = scaler.fit_transform(test_data_encoded)\n",
    "\n",
    "\n"
   ]
  },
  {
   "cell_type": "code",
   "execution_count": 350,
   "id": "69c3d522",
   "metadata": {},
   "outputs": [],
   "source": [
    "# Predict probabilities for the test set\n",
    "y_test_prob = logreg.predict_proba(test_data_scaled)[:,1]\n",
    "\n",
    "# Convert probabilities to class labels using the threshold (0.7 as determined before)\n",
    "y_test_pred = (y_test_prob > 0.7).astype(int)\n",
    "\n",
    "# Convert numeric predictions back to 'yes' and 'no'\n",
    "y_test_pred_labels = ['yes' if pred == 1 else 'no' for pred in y_test_pred]\n"
   ]
  },
  {
   "cell_type": "code",
   "execution_count": 352,
   "id": "26624438",
   "metadata": {},
   "outputs": [],
   "source": [
    "output_df = pd.DataFrame({\n",
    "    'ORDER-ID': order_ids,\n",
    "    'CLASS': y_test_pred_labels\n",
    "})\n"
   ]
  },
  {
   "cell_type": "code",
   "execution_count": 353,
   "id": "e3da607e",
   "metadata": {},
   "outputs": [],
   "source": [
    "\n",
    "output_df.to_csv('predicted_risk_orders.txt', index=False, sep='\\t')\n"
   ]
  },
  {
   "cell_type": "code",
   "execution_count": null,
   "id": "8f81460d",
   "metadata": {},
   "outputs": [],
   "source": []
  }
 ],
 "metadata": {
  "kernelspec": {
   "display_name": "Python 3 (ipykernel)",
   "language": "python",
   "name": "python3"
  },
  "language_info": {
   "codemirror_mode": {
    "name": "ipython",
    "version": 3
   },
   "file_extension": ".py",
   "mimetype": "text/x-python",
   "name": "python",
   "nbconvert_exporter": "python",
   "pygments_lexer": "ipython3",
   "version": "3.10.9"
  }
 },
 "nbformat": 4,
 "nbformat_minor": 5
}
